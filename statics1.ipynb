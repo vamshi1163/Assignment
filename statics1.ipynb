{
 "cells": [
  {
   "cell_type": "code",
   "execution_count": 1,
   "id": "e77eaaf2",
   "metadata": {},
   "outputs": [],
   "source": [
    "# Q1. What is Statistics? in a two lines"
   ]
  },
  {
   "cell_type": "code",
   "execution_count": 2,
   "id": "4dc216bd",
   "metadata": {},
   "outputs": [],
   "source": [
    "# Statistics is the mathematical science concerned with collecting, analyzing, interpreting, and presenting data.\n",
    "# It involves methods for making inferences and decisions in the face of uncertainty."
   ]
  },
  {
   "cell_type": "code",
   "execution_count": 3,
   "id": "004a8876",
   "metadata": {},
   "outputs": [],
   "source": [
    "# Q2. Define the different types of statistics and give an example of when each type might be used."
   ]
  },
  {
   "cell_type": "code",
   "execution_count": 4,
   "id": "aff3368a",
   "metadata": {},
   "outputs": [],
   "source": [
    "# Descriptive statistics:\n",
    "#     These are like summaries of data. They help you understand what's going on in a group of numbers. \n",
    "#     For example, if you want to know the average height of students in a class, or how spread out their heights are,\n",
    "#     you'd use descriptive statistics.\n",
    "\n",
    "# Inferential statistics: \n",
    "#     These are like making educated guesses or predictions based on data you have. \n",
    "#     They help you make decisions or draw conclusions about a larger group based on a smaller sample. \n",
    "#     For instance, if you want to know if a new medicine works for a whole population, you might test it on a\n",
    "#     smaller group and use inferential statistics to decide if it's likely to work for everyone."
   ]
  },
  {
   "cell_type": "code",
   "execution_count": 5,
   "id": "4e6c3ef3",
   "metadata": {},
   "outputs": [],
   "source": [
    "# Q3. What are the different types of data and how do they differ from each other? Provide an example of\n",
    "# # each type of data."
   ]
  },
  {
   "cell_type": "code",
   "execution_count": 6,
   "id": "a9d6b55b",
   "metadata": {},
   "outputs": [],
   "source": [
    "# Nominal: Nominal data is categorical data without any intrinsic order or ranking. It simply categorizes or labels items. For example, gender (male, female), eye color (blue, brown, green), or types of fruits (apple, banana, orange).\n",
    "\n",
    "# Ordinal: Ordinal data also represents categories, but with an inherent order or ranking. However, the intervals between the categories are not necessarily equal. For example, survey responses such as \"poor, fair, good, excellent\" or educational levels like \"high school diploma, bachelor's degree, master's degree.\"\n",
    "\n",
    "# Interval: Interval data represents quantities where the difference between values is meaningful and consistent, but there is no true zero point. Temperature measured in Celsius or Fahrenheit is a classic example. The difference between 10°C and 20°C is the same as the difference between 20°C and 30°C, but 0°C doesn't mean the absence of temperature.\n",
    "\n",
    "# Ratio: Ratio data is similar to interval data but has a true zero point, meaning absence of the attribute being measured. It allows for meaningful ratios between values. Examples include height, weight, time, and money. For instance, if someone weighs 80 kg, and another person weighs 40 kg, the ratio of their weights is meaningful: the first person weighs twice as much as the second person.\n",
    "\n",
    "\n",
    "\n",
    "\n"
   ]
  },
  {
   "cell_type": "code",
   "execution_count": 7,
   "id": "ae1c907c",
   "metadata": {},
   "outputs": [],
   "source": [
    "# Q4. Categorise the following datasets with respect to quantitative and qualitative data types:\n",
    "# (i) Grading in exam: A+, A, B+, B, C+, C, D, E\n",
    "# (ii) Colour of mangoes: yellow, green, orange, red\n",
    "# (iii) Height data of a class: [178.9, 179, 179.5, 176, 177.2, 178.3, 175.8,...]\n",
    "# (iv) Number of mangoes exported by a farm: [500, 600, 478, 672, ...]"
   ]
  },
  {
   "cell_type": "code",
   "execution_count": 8,
   "id": "02627ee6",
   "metadata": {},
   "outputs": [],
   "source": [
    "# (i) Grading in exam: This dataset represents qualitative data because it categorizes students' grades into different categories (A+, A, B+, etc.).\n",
    "\n",
    "# (ii) Colour of mangoes: This dataset also represents qualitative data because it categorizes mangoes based on their color (yellow, green, orange, red).\n",
    "\n",
    "# (iii) Height data of a class: This dataset represents quantitative data because it consists of numerical measurements (heights) that can be ordered and measured.\n",
    "\n",
    "# (iv) Number of mangoes exported by a farm: This dataset represents quantitative data as well, specifically discrete quantitative data, because it consists of numerical counts (number of mangoes exported) that can be ordered and measured."
   ]
  },
  {
   "cell_type": "code",
   "execution_count": 9,
   "id": "b75c57a7",
   "metadata": {},
   "outputs": [],
   "source": [
    "# Q5. Explain the concept of levels of measurement and give an example of a variable for each level."
   ]
  },
  {
   "cell_type": "code",
   "execution_count": 10,
   "id": "04bd9773",
   "metadata": {},
   "outputs": [],
   "source": [
    "# Nominal: Categories with no order or rank (e.g., ethnicity).\n",
    "# Ordinal: Categories with an order or rank, but unequal intervals (e.g., Likert scale).\n",
    "# Interval: Categories with order, equal intervals, but no true zero point (e.g., temperature in Celsius)."
   ]
  },
  {
   "cell_type": "code",
   "execution_count": 11,
   "id": "0144a5bb",
   "metadata": {},
   "outputs": [],
   "source": [
    "# Q6. Why is it important to understand the level of measurement when analyzing data? Provide an\n",
    "# example to illustrate your answer."
   ]
  },
  {
   "cell_type": "code",
   "execution_count": 13,
   "id": "6a3a1269",
   "metadata": {},
   "outputs": [],
   "source": [
    "\n",
    "# # Understanding the level of measurement is crucial in data analysis because\n",
    "# it determines the types of statistical analyses that can be performed and the interpretation \n",
    "# of results. Using inappropriate analyses based on the level of measurement can lead to erroneous conclusions.\n",
    "# For example, applying arithmetic operations like addition or averaging to ordinal data can yield misleading results\n",
    "# because the intervals between categories may not be equal, as in Likert scales. Similarly, treating interval data as \n",
    "# ratio data can lead to incorrect interpretations, as there is no true zero point, as seen in temperature measurements. Therefore, understanding the level of "
   ]
  },
  {
   "cell_type": "code",
   "execution_count": 14,
   "id": "9702a780",
   "metadata": {},
   "outputs": [],
   "source": [
    "# Q7. How nominal data type is different from ordinal data type."
   ]
  },
  {
   "cell_type": "code",
   "execution_count": 15,
   "id": "19eb055e",
   "metadata": {},
   "outputs": [],
   "source": [
    "# Nominal data consists of categories without any inherent order or ranking,\n",
    "# while ordinal data includes categories with a defined order or ranking but unequal intervals between them. \n",
    "# In nominal data, the categories are simply labels, while in ordinal data, the categories indicate relative standing\n",
    "# or ranking among them.\n",
    "\n",
    "\n",
    "\n",
    "\n"
   ]
  },
  {
   "cell_type": "code",
   "execution_count": 16,
   "id": "e271c188",
   "metadata": {},
   "outputs": [],
   "source": [
    "# Q8. Which type of plot can be used to display data in terms of range?"
   ]
  },
  {
   "cell_type": "code",
   "execution_count": 17,
   "id": "9ba5b92b",
   "metadata": {},
   "outputs": [],
   "source": [
    "# A box plot, also known as a box-and-whisker plot, is commonly used to display data in terms of range. \n",
    "# It visually represents the distribution of a dataset by showing the minimum, first quartile (Q1), median (second quartile, Q2), \n",
    "# third quartile (Q3), and maximum values. Additionally, outliers may also be displayed in a box plot, providing insights into\n",
    "# the variability and spread of the data.\n",
    "\n",
    "\n",
    "\n",
    "\n"
   ]
  },
  {
   "cell_type": "code",
   "execution_count": 18,
   "id": "449f3bae",
   "metadata": {},
   "outputs": [],
   "source": [
    "# Q9. Describe the difference between descriptive and inferential statistics. Give an example of each\n",
    "# # type of statistics and explain how they are used."
   ]
  },
  {
   "cell_type": "code",
   "execution_count": 19,
   "id": "a83f4a8e",
   "metadata": {},
   "outputs": [],
   "source": [
    "\n",
    "# Descriptive statistics involve summarizing and describing features \n",
    "# of a dataset, providing insights into its characteristics. For example, \n",
    "# calculating the average income of a population. Inferential statistics, on the other hand,\n",
    "# involve making inferences or predictions about a population based on a sample of data. For instance, \n",
    "# determining if a new drug is effective based on clinical trial data. Descriptive statistics help in understanding data,\n",
    "# while inferential statistics extend findings to broader populations or situations.\n"
   ]
  },
  {
   "cell_type": "code",
   "execution_count": 20,
   "id": "d2751ccd",
   "metadata": {},
   "outputs": [],
   "source": [
    "# Q10. What are some common measures of central tendency and variability used in statistics? Explain\n",
    "# how each measure can be used to describe a dataset."
   ]
  },
  {
   "cell_type": "code",
   "execution_count": null,
   "id": "ea3f1106",
   "metadata": {},
   "outputs": [],
   "source": [
    "# Mean: The mean is the average value of a dataset, calculated by adding up all the values and dividing by the total number of values. It provides a measure of the \"typical\" value in the dataset.\n",
    "\n",
    "# Median: The median is the middle value of a dataset when the values are arranged in ascending or descending order. If there is an even number of values, the median is the average of the two middle values. It is less affected by extreme values than the mean and provides a measure of the \"middle\" of the dataset.\n",
    "\n",
    "# Mode: The mode is the value that occurs most frequently in a dataset. It provides insight into the most common value or category in the dataset.\n",
    "\n",
    "# Common measures of variability include:\n",
    "\n",
    "# Range: The range is the difference between the maximum and minimum values in a dataset. It provides a simple measure of the spread or dispersion of values in the dataset.\n",
    "\n",
    "# Variance: Variance measures the average squared deviation of each value from the mean. It provides a measure of the variability of the dataset around the mean.\n",
    "\n",
    "# Standard deviation: The standard deviation is the square root of the variance. It provides a measure of the average deviation of values from the mean and is often preferred because it is in the same units as the original data."
   ]
  }
 ],
 "metadata": {
  "kernelspec": {
   "display_name": "Python 3 (ipykernel)",
   "language": "python",
   "name": "python3"
  },
  "language_info": {
   "codemirror_mode": {
    "name": "ipython",
    "version": 3
   },
   "file_extension": ".py",
   "mimetype": "text/x-python",
   "name": "python",
   "nbconvert_exporter": "python",
   "pygments_lexer": "ipython3",
   "version": "3.11.5"
  }
 },
 "nbformat": 4,
 "nbformat_minor": 5
}
