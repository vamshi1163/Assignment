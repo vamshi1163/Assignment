{
 "cells": [
  {
   "cell_type": "code",
   "execution_count": 1,
   "id": "9a396e4f",
   "metadata": {},
   "outputs": [],
   "source": [
    "# Q1. What is the Probability density function?"
   ]
  },
  {
   "cell_type": "code",
   "execution_count": 2,
   "id": "b0725e9d",
   "metadata": {},
   "outputs": [],
   "source": [
    "# probability density function (PDF) describes the likelihood of a random variable taking \n",
    "# on a specific value within a given range. Imagine you have a graph where the x-axis represents\n",
    "# all possible values of a variable (like heights of people), and the y-axis represents the likelihood of \n",
    "# each value occurring. The PDF tells you how the likelihood of each value changes across that range. So,\n",
    "# for example, in a PDF for heights, it might tell you that heights \n",
    "# around the average are more likely than very tall or very short heights."
   ]
  },
  {
   "cell_type": "code",
   "execution_count": 3,
   "id": "5ace4d99",
   "metadata": {},
   "outputs": [],
   "source": [
    "# Q2. What are the types of Probability distribution?"
   ]
  },
  {
   "cell_type": "code",
   "execution_count": 4,
   "id": "e6dbdfe7",
   "metadata": {},
   "outputs": [],
   "source": [
    "# Discrete Probability Distribution: This type of distribution deals with discrete (distinct) outcomes. For example, rolling a die or counting the number of red cars passing by. Common examples include the Bernoulli distribution (like flipping a coin) and the Poisson distribution (for counting rare events).\n",
    "\n",
    "# Continuous Probability Distribution: Unlike discrete distributions, these deal with continuous outcomes. Think of measurements like height or weight, where there's a whole range of possible values. The normal (Gaussian) distribution is a famous example, often used to describe things like IQ scores or heights of people."
   ]
  },
  {
   "cell_type": "code",
   "execution_count": 5,
   "id": "c3884bd9",
   "metadata": {},
   "outputs": [],
   "source": [
    "# Q3. Write a Python function to calculate the probability density function of a normal distribution with\n",
    "# # given mean and standard deviation at a given point."
   ]
  },
  {
   "cell_type": "code",
   "execution_count": 6,
   "id": "0690c37e",
   "metadata": {},
   "outputs": [
    {
     "name": "stdout",
     "output_type": "stream",
     "text": [
      "PDF at x = 1 : 0.24197072451914337\n"
     ]
    }
   ],
   "source": [
    "import math\n",
    "\n",
    "def normal_pdf(x, mean, std_dev):\n",
    "    \"\"\"\n",
    "    Calculate the probability density function (PDF) of a normal distribution at a given point.\n",
    "\n",
    "    Args:\n",
    "    - x: The point at which to calculate the PDF.\n",
    "    - mean: The mean of the normal distribution.\n",
    "    - std_dev: The standard deviation of the normal distribution.\n",
    "\n",
    "    Returns:\n",
    "    - pdf_value: The value of the PDF at the given point.\n",
    "    \"\"\"\n",
    "    exponent = -((x - mean) ** 2) / (2 * std_dev ** 2)\n",
    "    coefficient = 1 / (std_dev * math.sqrt(2 * math.pi))\n",
    "    pdf_value = coefficient * math.exp(exponent)\n",
    "    return pdf_value\n",
    "\n",
    "# Example usage:\n",
    "mean = 0\n",
    "std_dev = 1\n",
    "x = 1\n",
    "pdf_at_x = normal_pdf(x, mean, std_dev)\n",
    "print(\"PDF at x =\", x, \":\", pdf_at_x)\n"
   ]
  },
  {
   "cell_type": "code",
   "execution_count": 7,
   "id": "7454fca2",
   "metadata": {},
   "outputs": [],
   "source": [
    "# Q4. What are the properties of Binomial distribution? Give two examples of events where binomial\n",
    "# distribution can be applied."
   ]
  },
  {
   "cell_type": "code",
   "execution_count": 8,
   "id": "b18c9235",
   "metadata": {},
   "outputs": [],
   "source": [
    "# Properties:\n",
    "\n",
    "# Fixed number of trials.\n",
    "# Two possible outcomes (success/failure).\n",
    "# Constant probability of success.\n",
    "# Independent trials.\n",
    "# Discrete outcome.\n",
    "# Examples:\n",
    "\n",
    "# Coin flips: Success = heads, failure = tails.\n",
    "# Manufacturing defects: Success = defective product, failure = non-defective product."
   ]
  },
  {
   "cell_type": "code",
   "execution_count": 9,
   "id": "a5c35ade",
   "metadata": {},
   "outputs": [],
   "source": [
    "# Q5. Generate a random sample of size 1000 from a binomial distribution with probability of success 0.4\n",
    "# and plot a histogram of the results using matplotlib."
   ]
  },
  {
   "cell_type": "code",
   "execution_count": 10,
   "id": "3ad3e01f",
   "metadata": {},
   "outputs": [
    {
     "data": {
      "image/png": "[encoded data removed]",
      "text/plain": [
       "<Figure size 640x480 with 1 Axes>"
      ]
     },
     "metadata": {},
     "output_type": "display_data"
    }
   ],
   "source": [
    "import numpy as np\n",
    "import matplotlib.pyplot as plt\n",
    "\n",
    "# Generate random sample from binomial distribution\n",
    "sample_size = 1000\n",
    "probability_of_success = 0.4\n",
    "random_sample = np.random.binomial(n=1, p=probability_of_success, size=sample_size)\n",
    "\n",
    "# Plot histogram\n",
    "plt.hist(random_sample, bins=[-0.5, 0.5, 1.5], edgecolor='black')\n",
    "plt.title('Histogram of Binomial Distribution')\n",
    "plt.xlabel('Outcome')\n",
    "plt.ylabel('Frequency')\n",
    "plt.xticks([0, 1], ['Failure', 'Success'])\n",
    "plt.show()\n"
   ]
  },
  {
   "cell_type": "code",
   "execution_count": 11,
   "id": "69e6ca4b",
   "metadata": {},
   "outputs": [],
   "source": [
    "# Q6. Write a Python function to calculate the cumulative distribution function of a Poisson distribution\n",
    "# with given mean at a given point."
   ]
  },
  {
   "cell_type": "code",
   "execution_count": 12,
   "id": "be95c604",
   "metadata": {},
   "outputs": [
    {
     "name": "stdout",
     "output_type": "stream",
     "text": [
      "CDF at k = 2 : 0.42319008112684353\n"
     ]
    }
   ],
   "source": [
    "import math\n",
    "\n",
    "def poisson_cdf(k, mean):\n",
    "    \"\"\"\n",
    "    Calculate the cumulative distribution function (CDF) of a Poisson distribution at a given point.\n",
    "\n",
    "    Args:\n",
    "    - k: The point at which to calculate the CDF.\n",
    "    - mean: The mean of the Poisson distribution.\n",
    "\n",
    "    Returns:\n",
    "    - cdf_value: The value of the CDF at the given point.\n",
    "    \"\"\"\n",
    "    cdf_value = 0\n",
    "    for i in range(k + 1):\n",
    "        cdf_value += (math.exp(-mean) * mean ** i) / math.factorial(i)\n",
    "    return cdf_value\n",
    "\n",
    "# Example usage:\n",
    "mean = 3\n",
    "point = 2\n",
    "cdf_at_point = poisson_cdf(point, mean)\n",
    "print(\"CDF at k =\", point, \":\", cdf_at_point)\n"
   ]
  },
  {
   "cell_type": "code",
   "execution_count": 13,
   "id": "5ee25487",
   "metadata": {},
   "outputs": [],
   "source": [
    "# Q7. How Binomial distribution different from Poisson distribution?"
   ]
  },
  {
   "cell_type": "code",
   "execution_count": 14,
   "id": "a38ecb3b",
   "metadata": {},
   "outputs": [],
   "source": [
    "# Binomial Distribution:\n",
    "\n",
    "# Describes the number of successes in a fixed number of independent trials.\n",
    "# Requires a fixed number of trials \n",
    "# n and a constant probability of success p for each trial.\n",
    "# Deals with discrete outcomes.\n",
    "# Used when the number of trials is known and finite.\n",
    "\n",
    "\n",
    "\n",
    "# Poisson Distribution:\n",
    "\n",
    "# Describes the number of events occurring in a fixed interval of time or space.\n",
    "# Does not require a fixed number of trials and is based on the average rate of occurrence λ.\n",
    "# Also deals with discrete outcomes.\n",
    "# Used when the number of trials is unknown or infinite and the events occur independently at a constant rate.\n",
    "\n",
    "\n",
    "\n",
    "\n"
   ]
  },
  {
   "cell_type": "code",
   "execution_count": null,
   "id": "ef0813ad",
   "metadata": {},
   "outputs": [],
   "source": [
    "# Q8. Generate a random sample of size 1000 from a Poisson distribution with mean 5 and calculate the\n",
    "# sample mean and variance."
   ]
  },
  {
   "cell_type": "code",
   "execution_count": 15,
   "id": "9eae7e49",
   "metadata": {},
   "outputs": [
    {
     "name": "stdout",
     "output_type": "stream",
     "text": [
      "Sample Mean: 4.985\n",
      "Sample Variance: 4.994775\n"
     ]
    }
   ],
   "source": [
    "import numpy as np\n",
    "\n",
    "# Generate random sample from Poisson distribution\n",
    "sample_size = 1000\n",
    "mean = 5\n",
    "random_sample = np.random.poisson(mean, size=sample_size)\n",
    "\n",
    "# Calculate sample mean and variance\n",
    "sample_mean = np.mean(random_sample)\n",
    "sample_variance = np.var(random_sample)\n",
    "\n",
    "print(\"Sample Mean:\", sample_mean)\n",
    "print(\"Sample Variance:\", sample_variance)\n"
   ]
  },
  {
   "cell_type": "code",
   "execution_count": 16,
   "id": "45f05551",
   "metadata": {},
   "outputs": [],
   "source": [
    "# Q9. How mean and variance are related in Binomial distribution and Poisson distribution?"
   ]
  },
  {
   "cell_type": "code",
   "execution_count": 17,
   "id": "aa82128d",
   "metadata": {},
   "outputs": [],
   "source": [
    "# Both the mean and variance of a Binomial distribution are related to the number of trials and the probability of success.\n",
    "# In a Poisson distribution, the mean and variance are the same value, representing the average rate of occurrence.\n",
    "# Additionally:\n",
    "\n",
    "# As the number of trials increases and the probability of success decreases in a Binomial distribution, it starts resembling a Poisson distribution with a similar mean."
   ]
  },
  {
   "cell_type": "code",
   "execution_count": 18,
   "id": "0f3d5400",
   "metadata": {},
   "outputs": [],
   "source": [
    "# Q10. In normal distribution with respect to mean position, where does the least frequent data appear?"
   ]
  },
  {
   "cell_type": "code",
   "execution_count": null,
   "id": "c3d9b433",
   "metadata": {},
   "outputs": [],
   "source": [
    "# In a normal distribution, the least frequent data appears at the tails, farthest away from the mean position. This is because the normal distribution is symmetric around its mean, with the highest frequency of data occurring at the mean, and the frequency decreasing as you move away from the mean towards the tails on either side. The tails represent the extreme values of the distribution, which occur less frequently compared to the values closer to the mean."
   ]
  }
 ],
 "metadata": {
  "kernelspec": {
   "display_name": "Python 3 (ipykernel)",
   "language": "python",
   "name": "python3"
  },
  "language_info": {
   "codemirror_mode": {
    "name": "ipython",
    "version": 3
   },
   "file_extension": ".py",
   "mimetype": "text/x-python",
   "name": "python",
   "nbconvert_exporter": "python",
   "pygments_lexer": "ipython3",
   "version": "3.11.5"
  }
 },
 "nbformat": 4,
 "nbformat_minor": 5
}
