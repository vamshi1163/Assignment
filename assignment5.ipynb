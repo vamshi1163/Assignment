{
 "cells": [
  {
   "cell_type": "code",
   "execution_count": 1,
   "id": "057f9197",
   "metadata": {},
   "outputs": [],
   "source": [
    "#Q1, Create a vehicle class with an init method having instance variables as name_of_vehicle, max_speed and average_of_vehicle."
   ]
  },
  {
   "cell_type": "code",
   "execution_count": 5,
   "id": "e16a15da",
   "metadata": {},
   "outputs": [
    {
     "name": "stdout",
     "output_type": "stream",
     "text": [
      "200000\n",
      "200\n",
      "audi\n"
     ]
    }
   ],
   "source": [
    "class vehicle:\n",
    "    def __init__(self,name_of_vehicle, max_speed ,average_of_vehicle):\n",
    "        self.name_of_vehicle=name_of_vehicle\n",
    "        self.max_speed =max_speed \n",
    "        self.average_of_vehicle=average_of_vehicle\n",
    "c=vehicle(\"audi\",200,200000)\n",
    "print(c.average_of_vehicle)\n",
    "print(c.max_speed)\n",
    "print(c.name_of_vehicle)"
   ]
  },
  {
   "cell_type": "code",
   "execution_count": 6,
   "id": "385d3162",
   "metadata": {},
   "outputs": [],
   "source": [
    "#Q2. Create a child class car from the vehicle class created in Que 1, which will inherit the vehicle class.\n",
    "#Create a method named seating_capacity which takes capacity as an argument and returns the name of the vehicle and its seating capacity."
   ]
  },
  {
   "cell_type": "code",
   "execution_count": 13,
   "id": "28f55c6a",
   "metadata": {},
   "outputs": [
    {
     "name": "stdout",
     "output_type": "stream",
     "text": [
      "7\n",
      "Benz\n"
     ]
    }
   ],
   "source": [
    "class vehicle:\n",
    "    def __init__(self,name_of_vehicle, max_speed ,average_of_vehicle):\n",
    "        self.name_of_vehicle=name_of_vehicle\n",
    "        self.max_speed =max_speed \n",
    "        self.average_of_vehicle=average_of_vehicle\n",
    "class car(vehicle):\n",
    "    def seating_capacity(self,capacity):\n",
    "        print(capacity)\n",
    "        return self.name_of_vehicle\n",
    "c=car(\"Benz\",200,500000)\n",
    "print(c.seating_capacity(7))\n",
    "    "
   ]
  },
  {
   "cell_type": "code",
   "execution_count": 14,
   "id": "6de7def6",
   "metadata": {},
   "outputs": [],
   "source": [
    "#Q3. What is multiple inheritance? Write a python code to demonstrate multiple inheritance."
   ]
  },
  {
   "cell_type": "code",
   "execution_count": 17,
   "id": "e345c763",
   "metadata": {},
   "outputs": [
    {
     "name": "stdout",
     "output_type": "stream",
     "text": [
      "This is a parent1 class\n",
      "This is a parent2 class\n"
     ]
    }
   ],
   "source": [
    "class parent1:\n",
    "    def test1(self):\n",
    "        return \"This is a parent1 class\"\n",
    "class parent2:\n",
    "    def test2(self):\n",
    "        return \"This is a parent2 class\"\n",
    "class child(parent1,parent2):\n",
    "    def test3(self):\n",
    "        pass\n",
    "c=child()\n",
    "print(c.test1())\n",
    "print(c.test2())"
   ]
  },
  {
   "cell_type": "code",
   "execution_count": 18,
   "id": "cb3447f9",
   "metadata": {},
   "outputs": [],
   "source": [
    "#Q4. What are getter and setter in python? Create a class and create a getter and a setter method in this class."
   ]
  },
  {
   "cell_type": "code",
   "execution_count": 22,
   "id": "9cf853da",
   "metadata": {},
   "outputs": [
    {
     "data": {
      "text/plain": [
       "15"
      ]
     },
     "execution_count": 22,
     "metadata": {},
     "output_type": "execute_result"
    }
   ],
   "source": [
    "class age:\n",
    "    def __init__(self,age):\n",
    "        self.age=age\n",
    "    def set_age(self,a):\n",
    "        self.age=a\n",
    "    def get_age(self):\n",
    "        return self.age\n",
    "a=age(20)\n",
    "a.set_age(15)\n",
    "a.get_age()"
   ]
  },
  {
   "cell_type": "code",
   "execution_count": 23,
   "id": "5bafa791",
   "metadata": {},
   "outputs": [],
   "source": [
    "#Q5.What is method overriding in python? Write a python code to demonstrate method overriding."
   ]
  },
  {
   "cell_type": "code",
   "execution_count": 25,
   "id": "751cc133",
   "metadata": {},
   "outputs": [
    {
     "data": {
      "text/plain": [
       "'This is child class'"
      ]
     },
     "execution_count": 25,
     "metadata": {},
     "output_type": "execute_result"
    }
   ],
   "source": [
    "class parent:\n",
    "    def test1(self):\n",
    "        return \"This is parent class\"\n",
    "    def test2(self):\n",
    "        return \"This is parent class of test2 method\"\n",
    "class child(parent):\n",
    "    def test1(self):\n",
    "        return \"This is child class\"\n",
    "c=child()\n",
    "c.test1()"
   ]
  },
  {
   "cell_type": "code",
   "execution_count": null,
   "id": "8b4ae0d9",
   "metadata": {},
   "outputs": [],
   "source": []
  }
 ],
 "metadata": {
  "kernelspec": {
   "display_name": "Python 3 (ipykernel)",
   "language": "python",
   "name": "python3"
  },
  "language_info": {
   "codemirror_mode": {
    "name": "ipython",
    "version": 3
   },
   "file_extension": ".py",
   "mimetype": "text/x-python",
   "name": "python",
   "nbconvert_exporter": "python",
   "pygments_lexer": "ipython3",
   "version": "3.9.12"
  }
 },
 "nbformat": 4,
 "nbformat_minor": 5
}
