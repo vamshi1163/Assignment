{
 "cells": [
  {
   "cell_type": "code",
   "execution_count": 1,
   "id": "fc4ca965",
   "metadata": {},
   "outputs": [],
   "source": [
    "# Q1: What is Estimation Statistics? Explain point estimate and interval estimate.\n"
   ]
  },
  {
   "cell_type": "code",
   "execution_count": 2,
   "id": "a2156208",
   "metadata": {},
   "outputs": [],
   "source": [
    "# Estimation Statistics: It involves using sample data to estimate population parameters. It's used when it's impractical or impossible to collect data from an entire population.\n",
    "# Point Estimate: It's a single value used to estimate a population parameter. For example, using the sample mean to estimate the population mean.\n",
    "# Interval Estimate: It's a range of values used to estimate a population parameter. For example, using a confidence interval to estimate the population mean."
   ]
  },
  {
   "cell_type": "code",
   "execution_count": 3,
   "id": "d5dec9db",
   "metadata": {},
   "outputs": [],
   "source": [
    "# Q2. Write a Python function to estimate the population mean using a sample mean and standard\n",
    "# deviation.\n"
   ]
  },
  {
   "cell_type": "code",
   "execution_count": 36,
   "id": "6c3fe678",
   "metadata": {},
   "outputs": [
    {
     "name": "stdout",
     "output_type": "stream",
     "text": [
      "Estimated population mean (95% confidence interval): 9.608 to 10.392\n"
     ]
    }
   ],
   "source": [
    "def estimate_population_mean(sample_mean, sample_stddev, sample_size):\n",
    "    \"\"\"\n",
    "    Estimate the population mean using a sample mean and standard deviation.\n",
    "\n",
    "    Args:\n",
    "    - sample_mean (float): The mean of the sample.\n",
    "    - sample_stddev (float): The standard deviation of the sample.\n",
    "    - sample_size (int): The size of the sample.\n",
    "\n",
    "    Returns:\n",
    "    - float: Estimated population mean.\n",
    "    \"\"\"\n",
    "    # Calculate the standard error (standard deviation of the sample mean)\n",
    "    standard_error = sample_stddev / (sample_size ** 0.5)\n",
    "\n",
    "    # Calculate the margin of error\n",
    "    margin_of_error = 1.96 * standard_error  # Assuming a 95% confidence interval (Z-score of 1.96)\n",
    "\n",
    "    # Calculate the lower and upper bounds of the confidence interval\n",
    "    lower_bound = sample_mean - margin_of_error\n",
    "    upper_bound = sample_mean + margin_of_error\n",
    "\n",
    "    # The population mean is estimated to be within the confidence interval\n",
    "    return lower_bound, upper_bound\n",
    "\n",
    "# Example usage:\n",
    "sample_mean = 10\n",
    "sample_stddev = 2\n",
    "sample_size = 100\n",
    "\n",
    "lower_bound, upper_bound = estimate_population_mean(sample_mean, sample_stddev, sample_size)\n",
    "print(\"Estimated population mean (95% confidence interval):\", lower_bound, \"to\", upper_bound)\n"
   ]
  },
  {
   "cell_type": "code",
   "execution_count": 5,
   "id": "7b0b2eb7",
   "metadata": {},
   "outputs": [],
   "source": [
    "# Q3: What is Hypothesis testing? Why is it used? State the importance of Hypothesis testing.\n"
   ]
  },
  {
   "cell_type": "code",
   "execution_count": 6,
   "id": "e17038ce",
   "metadata": {},
   "outputs": [],
   "source": [
    "# Hypothesis Testing: It's a statistical method used to make inferences about population parameters based on sample data. It involves making a hypothesis about the population parameter and then testing it using sample data.\n",
    "# Importance: It helps in decision-making, evaluating the effectiveness of interventions or treatments, and drawing conclusions about relationships between variables."
   ]
  },
  {
   "cell_type": "code",
   "execution_count": 7,
   "id": "cdd86419",
   "metadata": {},
   "outputs": [],
   "source": [
    "# Q4. Create a hypothesis that states whether the average weight of male college students is greater than\n",
    "# the average weight of female college students.\n"
   ]
  },
  {
   "cell_type": "code",
   "execution_count": 8,
   "id": "9f3da82b",
   "metadata": {},
   "outputs": [],
   "source": [
    "# Hypothesis: The average weight of male college students is greater than the average weight of female college students.\n",
    "# Null Hypothesis (H0): The average weight of male college students is not greater than the average weight of female college students.\n",
    "# Alternative Hypothesis (H1): The average weight of male college students is greater than the average weight of female college students."
   ]
  },
  {
   "cell_type": "code",
   "execution_count": 9,
   "id": "7daef752",
   "metadata": {},
   "outputs": [],
   "source": [
    "# Q5. Write a Python script to conduct a hypothesis test on the difference between two population means,\n",
    "# given a sample from each population.\n"
   ]
  },
  {
   "cell_type": "code",
   "execution_count": 37,
   "id": "d369a896",
   "metadata": {},
   "outputs": [
    {
     "name": "stdout",
     "output_type": "stream",
     "text": [
      "Reject the null hypothesis that the population means are equal.\n"
     ]
    }
   ],
   "source": [
    "import numpy as np\n",
    "from scipy.stats import ttest_ind\n",
    "\n",
    "def hypothesis_test(sample1, sample2, alpha=0.05):\n",
    "    \"\"\"\n",
    "    Conducts a hypothesis test on the difference between two population means.\n",
    "\n",
    "    Args:\n",
    "    - sample1 (array-like): Sample from the first population.\n",
    "    - sample2 (array-like): Sample from the second population.\n",
    "    - alpha (float): Significance level for the hypothesis test. Default is 0.05.\n",
    "\n",
    "    Returns:\n",
    "    - bool: True if null hypothesis is rejected, False otherwise.\n",
    "    \"\"\"\n",
    "    # Perform two-sample t-test\n",
    "    t_statistic, p_value = ttest_ind(sample1, sample2)\n",
    "\n",
    "    # Compare p-value with significance level\n",
    "    if p_value < alpha:\n",
    "        return True  # Reject null hypothesis\n",
    "    else:\n",
    "        return False  # Fail to reject null hypothesis\n",
    "\n",
    "# Example usage:\n",
    "sample1 = np.random.normal(loc=5, scale=2, size=100)\n",
    "sample2 = np.random.normal(loc=6, scale=2, size=100)\n",
    "\n",
    "reject_null_hypothesis = hypothesis_test(sample1, sample2)\n",
    "if reject_null_hypothesis:\n",
    "    print(\"Reject the null hypothesis that the population means are equal.\")\n",
    "else:\n",
    "    print(\"Fail to reject the null hypothesis that the population means are equal.\")\n"
   ]
  },
  {
   "cell_type": "code",
   "execution_count": 11,
   "id": "62ae6771",
   "metadata": {},
   "outputs": [],
   "source": [
    "# Q6: What is a null and alternative hypothesis? Give some examples.\n"
   ]
  },
  {
   "cell_type": "code",
   "execution_count": 12,
   "id": "14eaa0a8",
   "metadata": {},
   "outputs": [],
   "source": [
    "# Null Hypothesis (H0): It's a statement that there is no significant difference or effect. It's denoted as H0.\n",
    "# Example: There is no difference in the mean test scores between two groups.\n",
    "# Alternative Hypothesis (H1): It's a statement that contradicts the null hypothesis. It's denoted as H1.\n",
    "# Example: There is a difference in the mean test scores between two groups."
   ]
  },
  {
   "cell_type": "code",
   "execution_count": 13,
   "id": "1f1926bc",
   "metadata": {},
   "outputs": [],
   "source": [
    "# Q7: Write down the steps involved in hypothesis testing.\n"
   ]
  },
  {
   "cell_type": "code",
   "execution_count": 14,
   "id": "fbbf4b7f",
   "metadata": {},
   "outputs": [],
   "source": [
    "# State the null and alternative hypotheses.\n",
    "# Choose a significance level (alpha).\n",
    "# Collect sample data and calculate sample statistics.\n",
    "# Conduct a statistical test (e.g., t-test, z-test).\n",
    "# Determine the p-value.\n",
    "# Make a decision based on the p-value and compare it with the significance level.\n",
    "# Draw conclusions and interpret results."
   ]
  },
  {
   "cell_type": "code",
   "execution_count": 15,
   "id": "a596d8f6",
   "metadata": {},
   "outputs": [],
   "source": [
    "# Q8. Define p-value and explain its significance in hypothesis testing.\n"
   ]
  },
  {
   "cell_type": "code",
   "execution_count": 16,
   "id": "dcf89750",
   "metadata": {},
   "outputs": [],
   "source": [
    "# P-value: It's the probability of obtaining results as extreme as the observed results, assuming the null hypothesis is true. It helps in determining the significance of the results obtained from a hypothesis test. A smaller p-value indicates stronger evidence against the null hypothesis."
   ]
  },
  {
   "cell_type": "code",
   "execution_count": 17,
   "id": "7d1d3e19",
   "metadata": {},
   "outputs": [],
   "source": [
    "# Q9. Generate a Student's t-distribution plot using Python's matplotlib library, with the degrees of freedom\n",
    "# parameter set to 10.\n"
   ]
  },
  {
   "cell_type": "code",
   "execution_count": 19,
   "id": "9dbd1586",
   "metadata": {},
   "outputs": [
    {
     "data": {
      "image/png": "[encoded data removed]",
      "text/plain": [
       "<Figure size 640x480 with 1 Axes>"
      ]
     },
     "metadata": {},
     "output_type": "display_data"
    }
   ],
   "source": [
    "import numpy as np\n",
    "import matplotlib.pyplot as plt\n",
    "from scipy.stats import t\n",
    "\n",
    "df = 10\n",
    "x = np.linspace(-4, 4, 1000)\n",
    "y = t.pdf(x, df)\n",
    "\n",
    "plt.plot(x, y)\n",
    "plt.title(\"Student's t-Distribution with 10 Degrees of Freedom\")\n",
    "plt.xlabel(\"x\")\n",
    "plt.ylabel(\"Probability Density\")\n",
    "plt.show()\n"
   ]
  },
  {
   "cell_type": "code",
   "execution_count": 20,
   "id": "d2219220",
   "metadata": {},
   "outputs": [],
   "source": [
    "# Q10. Write a Python program to calculate the two-sample t-test for independent samples, given two\n",
    "# random samples of equal size and a null hypothesis that the population means are equal.\n"
   ]
  },
  {
   "cell_type": "code",
   "execution_count": 21,
   "id": "6d9f0d84",
   "metadata": {},
   "outputs": [
    {
     "name": "stdout",
     "output_type": "stream",
     "text": [
      "Two-sample t-test results:\n",
      "T-statistic: 0.45072608181821194\n",
      "P-value: 0.6526801646605249\n",
      "Fail to reject the null hypothesis that the population means are equal.\n"
     ]
    }
   ],
   "source": [
    "import numpy as np\n",
    "from scipy.stats import ttest_ind\n",
    "\n",
    "# Generate two random samples\n",
    "sample1 = np.random.normal(loc=5, scale=2, size=100)\n",
    "sample2 = np.random.normal(loc=5, scale=2, size=100)\n",
    "\n",
    "# Perform the two-sample t-test\n",
    "t_statistic, p_value = ttest_ind(sample1, sample2)\n",
    "\n",
    "# Print the results\n",
    "print(\"Two-sample t-test results:\")\n",
    "print(\"T-statistic:\", t_statistic)\n",
    "print(\"P-value:\", p_value)\n",
    "\n",
    "# Interpret the results\n",
    "alpha = 0.05\n",
    "if p_value < alpha:\n",
    "    print(\"Reject the null hypothesis that the population means are equal.\")\n",
    "else:\n",
    "    print(\"Fail to reject the null hypothesis that the population means are equal.\")\n"
   ]
  },
  {
   "cell_type": "code",
   "execution_count": 22,
   "id": "cf7bcf83",
   "metadata": {},
   "outputs": [],
   "source": [
    "# Q11: What is Student’s t distribution? When to use the t-Distribution.\n"
   ]
  },
  {
   "cell_type": "code",
   "execution_count": 23,
   "id": "e475cba7",
   "metadata": {},
   "outputs": [],
   "source": [
    "# Student's t-Distribution: It's a symmetric distribution that resembles the normal distribution but with heavier tails. It's used when the sample size is small or when the population standard deviation is unknown.\n",
    "# When to use: It's used in hypothesis testing when the sample size is small (<30) or when the population standard deviation is unknown."
   ]
  },
  {
   "cell_type": "code",
   "execution_count": 24,
   "id": "e7e8020f",
   "metadata": {},
   "outputs": [],
   "source": [
    "# Q12: What is t-statistic? State the formula for t-statistic."
   ]
  },
  {
   "cell_type": "code",
   "execution_count": 25,
   "id": "0112584e",
   "metadata": {},
   "outputs": [],
   "source": [
    "# The t-statistic is a measure used in hypothesis testing when the population standard deviation is unknown and the sample size is small. It helps determine if there's a significant difference between the means of two groups. The formula for the t-statistic involves the sample mean, sample standard deviation, population mean, and sample size."
   ]
  },
  {
   "cell_type": "code",
   "execution_count": 26,
   "id": "2503b2bc",
   "metadata": {},
   "outputs": [],
   "source": [
    "\n",
    "# Q13. A coffee shop owner wants to estimate the average daily revenue for their shop. They take a random\n",
    "# sample of 50 days and find the sample mean revenue to be $500 with a standard deviation of $50.\n",
    "# Estimate the population mean revenue with a 95% confidence interval.\n"
   ]
  },
  {
   "cell_type": "code",
   "execution_count": 27,
   "id": "99ede5d8",
   "metadata": {},
   "outputs": [],
   "source": [
    "# To estimate the average daily revenue for a coffee shop with a 95% confidence interval:\n",
    "\n",
    "# Take a random sample of 50 days and find the sample mean revenue, which is $500, with a standard deviation of $50.\n",
    "# Calculate the margin of error, which depends on the sample standard deviation and the sample size.\n",
    "# Multiply the margin of error by the critical value for a 95% confidence interval (usually obtained from a t-distribution table).\n",
    "# Add and subtract this margin of error from the sample mean to get the confidence interval.\n",
    "# So, based on the sample data, we can estimate with 95% confidence that the population mean revenue falls within this interval."
   ]
  },
  {
   "cell_type": "code",
   "execution_count": 28,
   "id": "2eb956f5",
   "metadata": {},
   "outputs": [],
   "source": [
    "# Q14. A researcher hypothesizes that a new drug will decrease blood pressure by 10 mmHg. They conduct a\n",
    "# clinical trial with 100 patients and find that the sample mean decrease in blood pressure is 8 mmHg with a\n",
    "# standard deviation of 3 mmHg. Test the hypothesis with a significance level of 0.05.\n"
   ]
  },
  {
   "cell_type": "code",
   "execution_count": 29,
   "id": "fc2cb805",
   "metadata": {},
   "outputs": [],
   "source": [
    "#  A researcher hypothesizes that a new drug will decrease blood pressure by 10 mmHg. They conduct a clinical trial with 100 patients and find that the sample mean decrease in blood pressure is 8 mmHg with a standard deviation of 3 mmHg. To test the hypothesis with a significance level of 0.05:\n",
    "\n",
    "# Calculate the t-statistic using the sample mean, hypothesized mean, sample standard deviation, and sample size.\n",
    "# Compare the calculated t-value with the critical t-value at a significance level of 0.05.\n",
    "# If the calculated t-value falls in the rejection region (outside the critical values), reject the null hypothesis and conclude that the new drug has a significant effect on reducing blood pressure."
   ]
  },
  {
   "cell_type": "code",
   "execution_count": 30,
   "id": "6549f95e",
   "metadata": {},
   "outputs": [],
   "source": [
    "# Q15. An electronics company produces a certain type of product with a mean weight of 5 pounds and a\n",
    "# standard deviation of 0.5 pounds. A random sample of 25 products is taken, and the sample mean weight\n",
    "# is found to be 4.8 pounds. Test the hypothesis that the true mean weight of the products is less than 5\n",
    "# pounds with a significance level of 0.01.\n"
   ]
  },
  {
   "cell_type": "code",
   "execution_count": 31,
   "id": "f44eef51",
   "metadata": {},
   "outputs": [],
   "source": [
    "# We conduct a one-sample t-test using the formula for the t-statistic.\n",
    "# Calculate the t-value and compare it with the critical t-value at the chosen significance level.\n"
   ]
  },
  {
   "cell_type": "code",
   "execution_count": 32,
   "id": "f4193c89",
   "metadata": {},
   "outputs": [],
   "source": [
    "# Q16. Two groups of students are given different study materials to prepare for a test. The first group (n1 =\n",
    "# 30) has a mean score of 80 with a standard deviation of 10, and the second group (n2 = 40) has a mean\n",
    "# score of 75 with a standard deviation of 8. Test the hypothesis that the population means for the two\n",
    "# groups are equal with a significance level of 0.01.\n"
   ]
  },
  {
   "cell_type": "code",
   "execution_count": 33,
   "id": "ca3918d9",
   "metadata": {},
   "outputs": [],
   "source": [
    "\n",
    "\n",
    "# We conduct a two-sample t-test for independent samples.\n",
    "# Calculate the t-value and compare it with the critical t-value at the chosen significance level."
   ]
  },
  {
   "cell_type": "code",
   "execution_count": 34,
   "id": "0fef052c",
   "metadata": {},
   "outputs": [],
   "source": [
    "# Q17. A marketing company wants to estimate the average number of ads watched by viewers during a TV\n",
    "# program. They take a random sample of 50 viewers and find that the sample mean is 4 with a standard\n",
    "# deviation of 1.5. Estimate the population mean with a 99% confidence interval."
   ]
  },
  {
   "cell_type": "code",
   "execution_count": 35,
   "id": "618ed8a1",
   "metadata": {},
   "outputs": [],
   "source": [
    "# A marketing company wants to estimate the average number of ads watched by viewers during a TV program. They take a random sample of 50 viewers and find that the sample mean is 4 with a standard deviation of 1.5. To estimate the population mean with a 99% confidence interval:\n",
    "\n",
    "# Calculate the margin of error using the sample standard deviation and sample size.\n",
    "# Multiply the margin of error by the critical value for a 99% confidence interval (obtained from a t-distribution table).\n",
    "# Add and subtract this margin of error from the sample mean to get the confidence interval.\n",
    "# So, based on the sample data, we can estimate with 99% confidence that the population mean falls within this interval.\n",
    "\n",
    "\n",
    "\n",
    "\n"
   ]
  },
  {
   "cell_type": "code",
   "execution_count": null,
   "id": "3f30118d",
   "metadata": {},
   "outputs": [],
   "source": []
  }
 ],
 "metadata": {
  "kernelspec": {
   "display_name": "Python 3 (ipykernel)",
   "language": "python",
   "name": "python3"
  },
  "language_info": {
   "codemirror_mode": {
    "name": "ipython",
    "version": 3
   },
   "file_extension": ".py",
   "mimetype": "text/x-python",
   "name": "python",
   "nbconvert_exporter": "python",
   "pygments_lexer": "ipython3",
   "version": "3.11.5"
  }
 },
 "nbformat": 4,
 "nbformat_minor": 5
}
