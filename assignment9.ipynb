{
 "cells": [
  {
   "cell_type": "code",
   "execution_count": 2,
   "id": "65c85ef2",
   "metadata": {},
   "outputs": [],
   "source": [
    "#Q1. Explain why we have to use the Exception class while creating a Custom Exception."
   ]
  },
  {
   "cell_type": "code",
   "execution_count": 3,
   "id": "4df3528b",
   "metadata": {},
   "outputs": [],
   "source": [
    "#You can then raise instances of this custom exception in your code and catch them using try-catch blocks, just like any other exception."
   ]
  },
  {
   "cell_type": "code",
   "execution_count": 4,
   "id": "e99ac006",
   "metadata": {},
   "outputs": [],
   "source": [
    "# Q2. Write a python program to print Python Exception Hierarchy."
   ]
  },
  {
   "cell_type": "code",
   "execution_count": 5,
   "id": "de326b26",
   "metadata": {},
   "outputs": [
    {
     "name": "stdout",
     "output_type": "stream",
     "text": [
      "Python Exception Hierarchy:\n",
      "BaseException --> Exception, GeneratorExit, SystemExit, KeyboardInterrupt, CancelledError, AbortThread, AbortThread, DebuggerInitializationError\n",
      "Exception --> TypeError, StopAsyncIteration, StopIteration, ImportError, OSError, EOFError, RuntimeError, NameError, AttributeError, SyntaxError, LookupError, ValueError, AssertionError, ArithmeticError, SystemError, ReferenceError, MemoryError, BufferError, Warning, Error, _OptionError, error, Verbose, _Error, SubprocessError, _GiveupOnSendfile, error, LZMAError, RegistryError, _GiveupOnFastCopy, ZMQBaseError, Error, error, PickleError, _Stop, TokenError, StopTokenizing, ClassFoundException, EndOfBlock, TraitError, ArgumentError, ArgumentTypeError, ConfigError, ConfigurableError, ApplicationError, NoIPAddresses, Error, Incomplete, TimeoutError, InvalidStateError, LimitOverrunError, QueueEmpty, QueueFull, InvalidPortNumber, Empty, Full, DuplicateKernelError, TimeoutError, COMError, ArgumentError, ReturnValueIgnoredError, KeyReuseError, UnknownKeyError, LeakedCallbackError, BadYieldError, ReturnValueIgnoredError, Return, ErrorDuringImport, NotOneValueFound, CannotEval, OptionError, BdbQuit, Restart, FindCmdError, HomeDirError, ProfileDirError, IPythonCoreError, InputRejected, GetoptError, ErrorToken, PrefilterError, AliasError, Error, Warning, SpaceInInput, DOMException, ValidationError, EditReadOnlyBuffer, _Retry, InvalidLayoutError, HeightIsUnknownError, ParserSyntaxError, InternalParseError, _PositionUpdatingFinished, SimpleGetItemNotFound, UncaughtAttributeError, HasNoContext, ParamIssue, BadZipFile, LargeZipFile, _JediError, OnErrorLeaf, InvalidPythonEnvironment, MessageError, Error, HTTPException, InteractivelyDefined, KillEmbedded, Error, Error, TimeoutExpired, TimeoutAbandoned, QueueEmpty, QueueFull, DistutilsError, CCompilerError, Error, ExpatError, error, com_error, internal_error, ParseBaseException, RecursiveGrammarException, ResolutionError, ParseBaseException, RecursiveGrammarException, Error, Unresolved, SkipTest, _ShouldStop, _UnexpectedSuccess, Error, UnableToResolveVariableException, InvalidTypeInArgsException\n",
      "ArithmeticError --> FloatingPointError, OverflowError, ZeroDivisionError, DecimalException\n",
      "LookupError --> IndexError, KeyError, CodecRegistryError\n"
     ]
    }
   ],
   "source": [
    "def print_exception_hierarchy():\n",
    "    exception_classes = [BaseException, Exception, ArithmeticError, LookupError]\n",
    "\n",
    "    for exception_class in exception_classes:\n",
    "        print(f\"{exception_class.__name__} --> {', '.join([c.__name__ for c in exception_class.__subclasses__()])}\")\n",
    "\n",
    "if __name__ == \"__main__\":\n",
    "    print(\"Python Exception Hierarchy:\")\n",
    "    print_exception_hierarchy()\n"
   ]
  },
  {
   "cell_type": "code",
   "execution_count": 6,
   "id": "41f7f520",
   "metadata": {},
   "outputs": [],
   "source": [
    "#Q3. What errors are defined in the ArithmeticError class? Explain any two with an example."
   ]
  },
  {
   "cell_type": "code",
   "execution_count": 7,
   "id": "447dfc72",
   "metadata": {},
   "outputs": [
    {
     "name": "stdout",
     "output_type": "stream",
     "text": [
      "division by zero\n"
     ]
    }
   ],
   "source": [
    "#errors that are based on arthemetic operations\n",
    "try:\n",
    "    a=10/0\n",
    "except Exception as e:\n",
    "    print(e)"
   ]
  },
  {
   "cell_type": "code",
   "execution_count": 10,
   "id": "45a3949d",
   "metadata": {},
   "outputs": [
    {
     "name": "stdout",
     "output_type": "stream",
     "text": [
      "(34, 'Result too large')\n"
     ]
    }
   ],
   "source": [
    "j = 5.0\n",
    "\n",
    "try:\n",
    "    for i in range(1, 1000):\n",
    "        j = j**i\n",
    "except ArithmeticError as e:\n",
    "    print(e)\n"
   ]
  },
  {
   "cell_type": "code",
   "execution_count": 11,
   "id": "d04d4015",
   "metadata": {},
   "outputs": [],
   "source": [
    "#Q4. Why LookupError class is used? Explain with an example KeyError and IndexError."
   ]
  },
  {
   "cell_type": "code",
   "execution_count": 23,
   "id": "8e699f90",
   "metadata": {},
   "outputs": [
    {
     "name": "stdout",
     "output_type": "stream",
     "text": [
      "'grape'\n"
     ]
    }
   ],
   "source": [
    "#LookupError class in Python is used as a base class for exceptions that occur when a key or index used to access an element in a collection, such as a dictionary or a list, is not found.\n",
    "#key error\n",
    "my_dict = {'apple': 3, 'banana': 5, 'cherry': 2}\n",
    "\n",
    "try:\n",
    "    count = my_dict['grape'] \n",
    "except KeyError as e:\n",
    "    print(e)\n"
   ]
  },
  {
   "cell_type": "code",
   "execution_count": 21,
   "id": "b9b195c3",
   "metadata": {},
   "outputs": [
    {
     "name": "stdout",
     "output_type": "stream",
     "text": [
      "list index out of range\n"
     ]
    }
   ],
   "source": [
    "#index error\n",
    "a=[1,2,3,4,5,6]\n",
    "try:\n",
    "    print(a[6])\n",
    "except IndexError as e:\n",
    "    print(e)"
   ]
  },
  {
   "cell_type": "code",
   "execution_count": 26,
   "id": "a34144b3",
   "metadata": {},
   "outputs": [],
   "source": [
    "#Q5. Explain ImportError. What is ModuleNotFoundError?"
   ]
  },
  {
   "cell_type": "code",
   "execution_count": 28,
   "id": "52f9a8a3",
   "metadata": {},
   "outputs": [
    {
     "name": "stdout",
     "output_type": "stream",
     "text": [
      "No module named 'ab'\n"
     ]
    }
   ],
   "source": [
    "# if there is no given module we get this error\n",
    "try:\n",
    "    import ab\n",
    "except ImportError as e:\n",
    "    print(e)"
   ]
  },
  {
   "cell_type": "code",
   "execution_count": 29,
   "id": "5fd437db",
   "metadata": {},
   "outputs": [],
   "source": [
    "#Q6. List down some best practices for exception handling in python."
   ]
  },
  {
   "cell_type": "code",
   "execution_count": 30,
   "id": "807289b2",
   "metadata": {},
   "outputs": [],
   "source": [
    "# 1) using exact exception names\n",
    "# 2)always try to log your exception\n",
    "# 3)print always a proper msg\n"
   ]
  },
  {
   "cell_type": "code",
   "execution_count": null,
   "id": "b495ccd3",
   "metadata": {},
   "outputs": [],
   "source": []
  },
  {
   "cell_type": "code",
   "execution_count": null,
   "id": "97e6ed28",
   "metadata": {},
   "outputs": [],
   "source": []
  }
 ],
 "metadata": {
  "kernelspec": {
   "display_name": "Python 3 (ipykernel)",
   "language": "python",
   "name": "python3"
  },
  "language_info": {
   "codemirror_mode": {
    "name": "ipython",
    "version": 3
   },
   "file_extension": ".py",
   "mimetype": "text/x-python",
   "name": "python",
   "nbconvert_exporter": "python",
   "pygments_lexer": "ipython3",
   "version": "3.9.12"
  }
 },
 "nbformat": 4,
 "nbformat_minor": 5
}
