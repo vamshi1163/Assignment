{
 "cells": [
  {
   "cell_type": "code",
   "execution_count": 1,
   "id": "a1cd6387",
   "metadata": {},
   "outputs": [],
   "source": [
    "#Q1. Explain Class and Object with respect to Object-Oriented Programming. Give a suitable example."
   ]
  },
  {
   "cell_type": "code",
   "execution_count": 5,
   "id": "c6e5d603",
   "metadata": {},
   "outputs": [
    {
     "name": "stdout",
     "output_type": "stream",
     "text": [
      "vamshi\n"
     ]
    }
   ],
   "source": [
    "class student: #class\n",
    "    def name(self,name):\n",
    "        print(name)\n",
    "s=student() #object\n",
    "s.name(\"vamshi\")\n",
    "\n",
    "#class:blueprint of object\n",
    "#object:Instation of class"
   ]
  },
  {
   "cell_type": "code",
   "execution_count": 6,
   "id": "1f06c030",
   "metadata": {},
   "outputs": [],
   "source": [
    "#Q2. Name the four pillars of OOPs."
   ]
  },
  {
   "cell_type": "code",
   "execution_count": 7,
   "id": "71300e0d",
   "metadata": {},
   "outputs": [],
   "source": [
    "# 1)Abstraction\n",
    "# 2)polymorphism\n",
    "# 3)encapsulation\n",
    "# 4)inheritance"
   ]
  },
  {
   "cell_type": "code",
   "execution_count": 8,
   "id": "0c593e65",
   "metadata": {},
   "outputs": [],
   "source": [
    "#Q3. Explain why the __init__() function is used. Give a suitable example."
   ]
  },
  {
   "cell_type": "code",
   "execution_count": 9,
   "id": "47b800f4",
   "metadata": {},
   "outputs": [
    {
     "name": "stdout",
     "output_type": "stream",
     "text": [
      "vamshi\n"
     ]
    }
   ],
   "source": [
    "class student:\n",
    "    def __init__(self,name): #constructor\n",
    "        self.name=name\n",
    "        print(self.name)\n",
    "c=student(\"vamshi\")\n",
    "\n",
    "#__init__ directly send the data to the class and The __init__ function is called every time an object is created from a class."
   ]
  },
  {
   "cell_type": "code",
   "execution_count": 10,
   "id": "c6230e4a",
   "metadata": {},
   "outputs": [],
   "source": [
    "#Q4. Why self is used in OOPs?"
   ]
  },
  {
   "cell_type": "code",
   "execution_count": 11,
   "id": "186a7617",
   "metadata": {},
   "outputs": [],
   "source": [
    "#The self is used to represent the instance of the class. With this keyword, \n",
    "#you can access the attributes and methods of the class in python."
   ]
  },
  {
   "cell_type": "code",
   "execution_count": 12,
   "id": "162864bf",
   "metadata": {},
   "outputs": [],
   "source": [
    "#Q5. What is inheritance? Give an example for each type of inheritance."
   ]
  },
  {
   "cell_type": "code",
   "execution_count": 21,
   "id": "6f06c744",
   "metadata": {},
   "outputs": [
    {
     "name": "stdout",
     "output_type": "stream",
     "text": [
      "iam the faculty of a sec\n",
      "we are the students of sec a\n"
     ]
    }
   ],
   "source": [
    "class faculty:\n",
    "    def test(self):\n",
    "        print(\"iam the faculty of a sec\")\n",
    "class student(faculty):\n",
    "    def test1(self):\n",
    "        print(\"we are the students of sec a\")\n",
    "c=student()\n",
    "c.test()\n",
    "c.test1()\n",
    "\n",
    "#inheritance is nothing but it takes the properties from one class to other so we can access the methods of that class to\n"
   ]
  },
  {
   "cell_type": "code",
   "execution_count": null,
   "id": "b5aef04e",
   "metadata": {},
   "outputs": [],
   "source": []
  }
 ],
 "metadata": {
  "kernelspec": {
   "display_name": "Python 3 (ipykernel)",
   "language": "python",
   "name": "python3"
  },
  "language_info": {
   "codemirror_mode": {
    "name": "ipython",
    "version": 3
   },
   "file_extension": ".py",
   "mimetype": "text/x-python",
   "name": "python",
   "nbconvert_exporter": "python",
   "pygments_lexer": "ipython3",
   "version": "3.9.12"
  }
 },
 "nbformat": 4,
 "nbformat_minor": 5
}
