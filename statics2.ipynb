{
 "cells": [
  {
   "cell_type": "code",
   "execution_count": 1,
   "id": "8f203581",
   "metadata": {},
   "outputs": [],
   "source": [
    "# Q1. What are the three measures of central tendency?\n"
   ]
  },
  {
   "cell_type": "code",
   "execution_count": 2,
   "id": "61ae815f",
   "metadata": {},
   "outputs": [],
   "source": [
    "# Mean: Average value calculated by summing all values and dividing by the number of values.\n",
    "# Median: Middle value in a dataset, unaffected by extreme values.\n",
    "# Mode: Most frequently occurring value in a dataset."
   ]
  },
  {
   "cell_type": "code",
   "execution_count": 3,
   "id": "a372a14d",
   "metadata": {},
   "outputs": [],
   "source": [
    "# Q2. What is the difference between the mean, median, and mode? How are they used to measure the\n",
    "# central tendency of a dataset?"
   ]
  },
  {
   "cell_type": "code",
   "execution_count": 4,
   "id": "79a9fab8",
   "metadata": {},
   "outputs": [],
   "source": [
    "# The mean is the average, the median is the middle value, and the mode is the most common value. They help find \n",
    "# what's typical, central, or frequent in a dataset, depending on how the data is distributed and what you want to know about it."
   ]
  },
  {
   "cell_type": "code",
   "execution_count": 5,
   "id": "c79986bb",
   "metadata": {},
   "outputs": [],
   "source": [
    "# Q3. Measure the three measures of central tendency for the given height data:\n",
    "# [178,177,176,177,178.2,178,175,179,180,175,178.9,176.2,177,172.5,178,176.5]"
   ]
  },
  {
   "cell_type": "code",
   "execution_count": 6,
   "id": "7492eab3",
   "metadata": {},
   "outputs": [
    {
     "name": "stdout",
     "output_type": "stream",
     "text": [
      "Mean: 177.01875\n",
      "Median: 177.0\n",
      "Mode: 178.0\n"
     ]
    }
   ],
   "source": [
    "import numpy as np\n",
    "\n",
    "height_data = np.array([178, 177, 176, 177, 178.2, 178, 175, 179, 180, 175, 178.9, 176.2, 177, 172.5, 178, 176.5])\n",
    "\n",
    "# Mean calculation\n",
    "mean_height = np.mean(height_data)\n",
    "\n",
    "# Median calculation\n",
    "median_height = np.median(height_data)\n",
    "\n",
    "# Mode calculation\n",
    "mode_height = float(np.argmax(np.bincount(height_data.astype(int))))\n",
    "\n",
    "print(\"Mean:\", mean_height)\n",
    "print(\"Median:\", median_height)\n",
    "print(\"Mode:\", mode_height)\n"
   ]
  },
  {
   "cell_type": "code",
   "execution_count": 7,
   "id": "d62bed5e",
   "metadata": {},
   "outputs": [],
   "source": [
    "# Q4. Find the standard deviation for the given data:\n",
    "# [178,177,176,177,178.2,178,175,179,180,175,178.9,176.2,177,172.5,178,176.5]"
   ]
  },
  {
   "cell_type": "code",
   "execution_count": 8,
   "id": "c9510655",
   "metadata": {},
   "outputs": [
    {
     "data": {
      "text/plain": [
       "1.7885814036548633"
      ]
     },
     "execution_count": 8,
     "metadata": {},
     "output_type": "execute_result"
    }
   ],
   "source": [
    "import numpy as np\n",
    "height_data = [178, 177, 176, 177, 178.2, 178, 175, 179, 180, 175, 178.9, 176.2, 177, 172.5, 178, 176.5]\n",
    "np.std(height_data)"
   ]
  },
  {
   "cell_type": "code",
   "execution_count": 9,
   "id": "6e44442c",
   "metadata": {},
   "outputs": [],
   "source": [
    "# Q5. How are measures of dispersion such as range, variance, and standard deviation used to describe\n",
    "# the spread of a dataset? Provide an example."
   ]
  },
  {
   "cell_type": "code",
   "execution_count": 10,
   "id": "ca32c480",
   "metadata": {},
   "outputs": [
    {
     "name": "stdout",
     "output_type": "stream",
     "text": [
      "City A:\n",
      "Range: 4\n",
      "Variance: 1.551020408163265\n",
      "Standard Deviation: 1.2453996981544782\n",
      "\n",
      "City B:\n",
      "Range: 10\n",
      "Variance: 9.387755102040817\n",
      "Standard Deviation: 3.0639443699324596\n"
     ]
    }
   ],
   "source": [
    "# Range: It gives the difference between the maximum and minimum values in the dataset, providing a simple measure of the spread. However, it can be sensitive to outliers.\n",
    "\n",
    "# Variance: It measures the average squared deviation of each data point from the mean of the dataset. A higher variance indicates greater variability within the dataset.\n",
    "\n",
    "# Standard Deviation: It's the square root of the variance and provides a measure of the average deviation of data points from the mean. It's often preferred over variance as it's in the same units as the original data.\n",
    "\n",
    "import numpy as np\n",
    "\n",
    "# Temperature data for two cities\n",
    "city_a_temperatures = np.array([22, 24, 25, 23, 21, 22, 23])\n",
    "city_b_temperatures = np.array([20, 30, 25, 22, 23, 24, 21])\n",
    "\n",
    "# Range calculation\n",
    "range_city_a = np.ptp(city_a_temperatures)  # Peak to peak function gives the range\n",
    "range_city_b = np.ptp(city_b_temperatures)\n",
    "\n",
    "# Variance calculation\n",
    "variance_city_a = np.var(city_a_temperatures)\n",
    "variance_city_b = np.var(city_b_temperatures)\n",
    "\n",
    "# Standard deviation calculation\n",
    "std_dev_city_a = np.std(city_a_temperatures)\n",
    "std_dev_city_b = np.std(city_b_temperatures)\n",
    "\n",
    "print(\"City A:\")\n",
    "print(\"Range:\", range_city_a)\n",
    "print(\"Variance:\", variance_city_a)\n",
    "print(\"Standard Deviation:\", std_dev_city_a)\n",
    "print(\"\\nCity B:\")\n",
    "print(\"Range:\", range_city_b)\n",
    "print(\"Variance:\", variance_city_b)\n",
    "print(\"Standard Deviation:\", std_dev_city_b)\n"
   ]
  },
  {
   "cell_type": "code",
   "execution_count": 11,
   "id": "6cef3bb6",
   "metadata": {},
   "outputs": [],
   "source": [
    "# Q6. What is a Venn diagram?\n"
   ]
  },
  {
   "cell_type": "code",
   "execution_count": 12,
   "id": "b2e5cd96",
   "metadata": {},
   "outputs": [],
   "source": [
    "# A Venn diagram is a visual representation of the relationships between different sets of data. \n",
    "# It uses overlapping circles or other shapes to illustrate the logical relationships between sets. Each set is represented by a circle, and the overlap between circles represents elements that are shared between the sets. Venn diagrams are commonly used in mathematics, logic, statistics, and other fields to visualize set operations\n",
    "# and relationships."
   ]
  },
  {
   "cell_type": "code",
   "execution_count": 13,
   "id": "9404fc6f",
   "metadata": {},
   "outputs": [],
   "source": [
    "\n",
    "# Q7. For the two given sets A = (2,3,4,5,6,7) & B = (0,2,6,8,10). Find:\n",
    "# (i) A B\n",
    "# (ii) A ⋃ B"
   ]
  },
  {
   "cell_type": "code",
   "execution_count": 15,
   "id": "e11fb0ba",
   "metadata": {},
   "outputs": [],
   "source": [
    "# (i) A ∩ B (intersection)\n",
    "# (ii) A ∪ B (union)\n",
    "\n",
    "# Given sets:\n",
    "# A = {2, 3, 4, 5, 6, 7}\n",
    "# B = {0, 2, 6, 8, 10}\n",
    "\n",
    "# (i) A ∩ B (intersection) - This is the set of elements that are common to both sets A and B.\n",
    "# A ∩ B = {2, 6}\n",
    "\n",
    "# (ii) A ∪ B (union) - This is the set of all elements that are in either set A or set B, or both.\n",
    "# A ∪ B = {0, 2, 3, 4, 5, 6, 7, 8, 10}\n",
    "\n",
    "\n",
    "\n",
    "\n"
   ]
  },
  {
   "cell_type": "code",
   "execution_count": 16,
   "id": "899cf0ab",
   "metadata": {},
   "outputs": [],
   "source": [
    "# Q8. What do you understand about skewness in data?"
   ]
  },
  {
   "cell_type": "code",
   "execution_count": 17,
   "id": "c5e5630b",
   "metadata": {},
   "outputs": [],
   "source": [
    "# Skewness in data refers to the lack of symmetry in its distribution. If a dataset is skewed, it means that the distribution of its values is not balanced around the mean.\n",
    "\n",
    "# Positive skewness: If the tail on the right side of the distribution is longer or fatter than the left side, it's called positively skewed. This means that there are more extreme values on the right side of the distribution, pulling the mean towards them.\n",
    "\n",
    "# Negative skewness: If the tail on the left side of the distribution is longer or fatter than the right side, it's called negatively skewed. This means that there are more extreme values on the left side of the distribution, pulling the mean towards them."
   ]
  },
  {
   "cell_type": "code",
   "execution_count": 18,
   "id": "126a339d",
   "metadata": {},
   "outputs": [],
   "source": [
    "# Q9. If a data is right skewed then what will be the position of median with respect to mean?"
   ]
  },
  {
   "cell_type": "code",
   "execution_count": 19,
   "id": "0becca27",
   "metadata": {},
   "outputs": [],
   "source": [
    "# If a dataset is right skewed, the mean will be greater than the median.\n",
    "\n",
    "# In a right-skewed distribution, the tail of the distribution is longer on the right side, \n",
    "# indicating the presence of outliers or higher values pulling the mean towards them. As a result, \n",
    "# the mean is pulled to the right of the median,\n",
    "# making it greater than the median."
   ]
  },
  {
   "cell_type": "code",
   "execution_count": 20,
   "id": "9368a2ce",
   "metadata": {},
   "outputs": [],
   "source": [
    "# Q10. Explain the difference between covariance and correlation. How are these measures used in\n",
    "# statistical analysis?"
   ]
  },
  {
   "cell_type": "code",
   "execution_count": 21,
   "id": "587e6796",
   "metadata": {},
   "outputs": [],
   "source": [
    "# Covariance tells you whether two variables change together, but it doesn't give you a clear idea of how strong the relationship is.\n",
    "\n",
    "# Correlation not only tells you whether two variables change together but also how strong that relationship is and whether it's positive or negative. It's like a standardized version of covariance that's easier to interpret."
   ]
  },
  {
   "cell_type": "code",
   "execution_count": 22,
   "id": "c6a7bcfb",
   "metadata": {},
   "outputs": [],
   "source": [
    "# Q11. What is the formula for calculating the sample mean? Provide an example calculation for a\n",
    "# dataset."
   ]
  },
  {
   "cell_type": "code",
   "execution_count": 23,
   "id": "d2e66247",
   "metadata": {},
   "outputs": [],
   "source": [
    "# The formula for calculating the sample mean is:\n",
    "\n",
    "# Add up all the values in the dataset.\n",
    "# Divide the sum by the total number of values in the dataset.\n",
    "# For example:\n",
    "\n",
    "# Consider the dataset: 10, 12, 14, 16, 18\n",
    "\n",
    "# Add up all the values: 10 + 12 + 14 + 16 + 18 = 70\n",
    "# Since there are 5 values in the dataset, divide the sum by 5: 70 ÷ 5 = 14\n",
    "# So, the sample mean for this dataset is 14."
   ]
  },
  {
   "cell_type": "code",
   "execution_count": 24,
   "id": "c990b552",
   "metadata": {},
   "outputs": [],
   "source": [
    "# Q12. For a normal distribution data what is the relationship between its measure of central tendency?"
   ]
  },
  {
   "cell_type": "code",
   "execution_count": 25,
   "id": "a69eb2f7",
   "metadata": {},
   "outputs": [],
   "source": [
    "# Mean: In a normal distribution, the mean, median, and mode are all equal. They are located at the center of the distribution, where the curve is symmetrical.\n",
    "\n",
    "# Median: The median of a normal distribution is equal to the mean. Since the normal distribution is symmetrical, the median is located at the same point as the mean, right in the middle of the distribution.\n",
    "\n",
    "# Mode: Similarly, the mode of a normal distribution is also equal to the mean and the median. In a perfectly symmetrical normal distribution, there is only one peak (mode), and it coincides with the mean and median."
   ]
  },
  {
   "cell_type": "code",
   "execution_count": 26,
   "id": "f2b611f8",
   "metadata": {},
   "outputs": [],
   "source": [
    "# Q13. How is covariance different from correlation?"
   ]
  },
  {
   "cell_type": "code",
   "execution_count": 27,
   "id": "728e1d7a",
   "metadata": {},
   "outputs": [],
   "source": [
    "# Covariance measures how two variables change together. If one variable tends to increase as the other increases, their covariance is positive; if one tends to decrease as the other increases, the covariance is negative.\n",
    "\n",
    "# Correlation also measures how two variables change together but in a standardized way. It ranges from -1 to 1. A correlation of +1 indicates a perfect positive relationship, -1 indicates a perfect negative relationship, and 0 indicates no relationship."
   ]
  },
  {
   "cell_type": "code",
   "execution_count": 28,
   "id": "dcc0250d",
   "metadata": {},
   "outputs": [],
   "source": [
    "# Q14. How do outliers affect measures of central tendency and dispersion? Provide an example."
   ]
  },
  {
   "cell_type": "code",
   "execution_count": 29,
   "id": "3ce8dfcb",
   "metadata": {},
   "outputs": [],
   "source": [
    "# Central Tendency:\n",
    "\n",
    "# Outliers can make the average (mean) misleading. They pull it towards them, making it not represent the typical value.\n",
    "# The median isn't as affected by outliers because it's the middle value. However, extreme outliers can still slightly shift it.\n",
    "# The mode might not change unless the outlier becomes the most frequent value.\n",
    "# Dispersion:\n",
    "\n",
    "# Outliers can make the range seem wider, exaggerating how spread out the data is.\n",
    "# Variance and standard deviation, which measure how spread out the data is from the average, can be greatly influenced by outliers. They might suggest more variability than there actually is.\n",
    "# Example:\n",
    "# Imagine you have a group of friends' ages: 20, 22, 25, 27, 30, and suddenly, you add someone who is 200 years old.\n",
    "\n",
    "# The average age (mean) shoots up dramatically, making it seem like your friends are much older than they actually are.\n",
    "# The median age, being the middle value, is less affected. It might still be relatively close to what it was before.\n",
    "# The most common age (mode) remains the same unless the outlier becomes the new most common age.\n",
    "# The age range now seems much wider because of the outlier.\n",
    "# Variance and standard deviation increase significantly, suggesting more variability in ages than there actually is among your friends."
   ]
  },
  {
   "cell_type": "code",
   "execution_count": null,
   "id": "9a8958af",
   "metadata": {},
   "outputs": [],
   "source": []
  }
 ],
 "metadata": {
  "kernelspec": {
   "display_name": "Python 3 (ipykernel)",
   "language": "python",
   "name": "python3"
  },
  "language_info": {
   "codemirror_mode": {
    "name": "ipython",
    "version": 3
   },
   "file_extension": ".py",
   "mimetype": "text/x-python",
   "name": "python",
   "nbconvert_exporter": "python",
   "pygments_lexer": "ipython3",
   "version": "3.11.5"
  }
 },
 "nbformat": 4,
 "nbformat_minor": 5
}
