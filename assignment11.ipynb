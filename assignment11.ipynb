{
 "cells": [
  {
   "cell_type": "code",
   "execution_count": 3,
   "id": "935fb3c6",
   "metadata": {},
   "outputs": [],
   "source": [
    "# Q1. What is multiprocessing in python? Why is it useful?\n",
    "# multiprocessing  is nothing but creating multiple processes in a single thread\n"
   ]
  },
  {
   "cell_type": "code",
   "execution_count": 4,
   "id": "8a14e985",
   "metadata": {},
   "outputs": [],
   "source": [
    "# Q2. What are the differences between multiprocessing and multithreading?\n",
    "#multiprocessing:\n",
    "#     Uses multiple independent processes.\n",
    "#     Higher resource overhead.\n",
    "#     Achieves true parallelism, not affected by the Global Interpreter Lock \n",
    "#multithreading\n",
    "#     Uses multiple threads within a single process.\n",
    "#     Threads share memory and communicate more easily but require synchronization.\n",
    "#     Lower resource overhead.\n",
    "    "
   ]
  },
  {
   "cell_type": "code",
   "execution_count": 5,
   "id": "7506d978",
   "metadata": {},
   "outputs": [],
   "source": [
    "# Q3. Write a python code to create a process using the multiprocessing module."
   ]
  },
  {
   "cell_type": "code",
   "execution_count": 7,
   "id": "c90a5556",
   "metadata": {},
   "outputs": [
    {
     "name": "stdout",
     "output_type": "stream",
     "text": [
      "this is a main process\n"
     ]
    }
   ],
   "source": [
    "import multiprocessing\n",
    "def test():\n",
    "    print(\"this is a process\")\n",
    "if __name__=='__main__':\n",
    "    print(\"this is a main process\")\n",
    "    m=multiprocessing.Process(target=test)\n",
    "    m.start()\n",
    "    m.join()"
   ]
  },
  {
   "cell_type": "code",
   "execution_count": 8,
   "id": "fe0d175a",
   "metadata": {},
   "outputs": [],
   "source": [
    "#Q4. What is a multiprocessing pool in python? Why is it used?"
   ]
  },
  {
   "cell_type": "code",
   "execution_count": null,
   "id": "70d9081d",
   "metadata": {},
   "outputs": [],
   "source": [
    "import multiprocessing\n",
    "def sq(n):\n",
    "    print(n**2)\n",
    "if __name__=='__main__':\n",
    "     with multiprocessing.Pool(processes=6) as pool:\n",
    "        a=pool.map(sq,[1,2,3,4,5])\n",
    "        print(a)\n",
    "        "
   ]
  },
  {
   "cell_type": "code",
   "execution_count": 1,
   "id": "041a98e8",
   "metadata": {},
   "outputs": [],
   "source": [
    "#Q5. How can we create a pool of worker processes in python using the multiprocessing module?"
   ]
  },
  {
   "cell_type": "code",
   "execution_count": null,
   "id": "7e804e9a",
   "metadata": {},
   "outputs": [],
   "source": [
    "def worker(n):\n",
    "    print(n)\n",
    "if __name__=='__main__':\n",
    "     with multiprocessing.Pool(processes=6) as pool:\n",
    "        a=pool.map(worker,[\"vamshi\",\"hemesh\"])\n",
    "        print(a)"
   ]
  },
  {
   "cell_type": "code",
   "execution_count": 2,
   "id": "a0380244",
   "metadata": {},
   "outputs": [],
   "source": [
    "#Q6. Write a python program to create 4 processes, each process should print a different number using the\n",
    "# multiprocessing module in python."
   ]
  },
  {
   "cell_type": "code",
   "execution_count": 4,
   "id": "5a28109a",
   "metadata": {},
   "outputs": [
    {
     "name": "stdout",
     "output_type": "stream",
     "text": [
      "All processes have completed.\n"
     ]
    }
   ],
   "source": [
    "import multiprocessing\n",
    "\n",
    "def print_number(number):\n",
    "    print(f\"Process {number}: {number}\")\n",
    "\n",
    "if __name__ == \"__main__\":\n",
    "    numbers = [1, 2, 3, 4]\n",
    "    processes = []\n",
    "\n",
    "    # Create and start a separate process for each number\n",
    "    for i in numbers:\n",
    "        process = multiprocessing.Process(target=print_number, args=(i,))\n",
    "        processes.append(process)\n",
    "        process.start()\n",
    "\n",
    "    # Wait for all processes to complete\n",
    "    for j in processes:\n",
    "        j.join()\n",
    "\n",
    "    print(\"All processes have completed.\")\n"
   ]
  },
  {
   "cell_type": "code",
   "execution_count": null,
   "id": "33dd9d1e",
   "metadata": {},
   "outputs": [],
   "source": []
  }
 ],
 "metadata": {
  "kernelspec": {
   "display_name": "Python 3 (ipykernel)",
   "language": "python",
   "name": "python3"
  },
  "language_info": {
   "codemirror_mode": {
    "name": "ipython",
    "version": 3
   },
   "file_extension": ".py",
   "mimetype": "text/x-python",
   "name": "python",
   "nbconvert_exporter": "python",
   "pygments_lexer": "ipython3",
   "version": "3.9.12"
  }
 },
 "nbformat": 4,
 "nbformat_minor": 5
}
