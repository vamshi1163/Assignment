{
 "cells": [
  {
   "cell_type": "code",
   "execution_count": 1,
   "id": "7048bb72",
   "metadata": {},
   "outputs": [],
   "source": [
    "#Q1. What is an Exception in python? Write the difference between Exceptions and syntax errors"
   ]
  },
  {
   "cell_type": "code",
   "execution_count": 2,
   "id": "4aa0cbe0",
   "metadata": {},
   "outputs": [],
   "source": [
    "# Exception is nothing but it is syntaxially correct but semantically wrong this contain many type of exceptions such as zerodivisonerror\n",
    "#syntax errors are nothing but they are semantically correct but syntaxially wrong"
   ]
  },
  {
   "cell_type": "code",
   "execution_count": 3,
   "id": "ab4243ec",
   "metadata": {},
   "outputs": [],
   "source": [
    "#Q2. What happens when an exception is not handled? Explain with an example"
   ]
  },
  {
   "cell_type": "code",
   "execution_count": 5,
   "id": "fc1d60cf",
   "metadata": {},
   "outputs": [
    {
     "ename": "IndentationError",
     "evalue": "expected an indented block (3866564323.py, line 3)",
     "output_type": "error",
     "traceback": [
      "\u001b[1;36m  Input \u001b[1;32mIn [5]\u001b[1;36m\u001b[0m\n\u001b[1;33m    print(\"10 less than 20\")\u001b[0m\n\u001b[1;37m    ^\u001b[0m\n\u001b[1;31mIndentationError\u001b[0m\u001b[1;31m:\u001b[0m expected an indented block\n"
     ]
    }
   ],
   "source": [
    "#when exception is not handled it raises an error and the rest code will be not executed\n",
    "if 10<20:\n",
    "print(\"10 less than 20\")\n",
    "else:\n",
    "    print(\"10 greater than 20\")"
   ]
  },
  {
   "cell_type": "code",
   "execution_count": 6,
   "id": "27b5b29f",
   "metadata": {},
   "outputs": [],
   "source": [
    "#Q3. Which Python statements are used to catch and handle exceptions? Explain with an example"
   ]
  },
  {
   "cell_type": "code",
   "execution_count": 7,
   "id": "dd34f35e",
   "metadata": {},
   "outputs": [
    {
     "name": "stdout",
     "output_type": "stream",
     "text": [
      "division by zero\n"
     ]
    }
   ],
   "source": [
    "#try and except is used to catch and handle the errors\n",
    "try:\n",
    "    a=10/0\n",
    "except Exception as e:\n",
    "    print(e)\n"
   ]
  },
  {
   "cell_type": "code",
   "execution_count": 8,
   "id": "5a7da8ef",
   "metadata": {},
   "outputs": [],
   "source": [
    "# Q4. Explain with an example:\n",
    "# a)try and else#\n",
    "# b)finally\n",
    "# c)raise"
   ]
  },
  {
   "cell_type": "code",
   "execution_count": 13,
   "id": "9cd46d15",
   "metadata": {},
   "outputs": [
    {
     "name": "stdout",
     "output_type": "stream",
     "text": [
      "this is an else block\n"
     ]
    }
   ],
   "source": [
    "#a\n",
    "try:\n",
    "    a=10/5\n",
    "except Exception as e:\n",
    "    print(e)\n",
    "else:\n",
    "    print(\"this is an else block\")"
   ]
  },
  {
   "cell_type": "code",
   "execution_count": 16,
   "id": "b9011032",
   "metadata": {},
   "outputs": [
    {
     "name": "stdout",
     "output_type": "stream",
     "text": [
      "division by zero\n",
      "this is finally block \n"
     ]
    }
   ],
   "source": [
    "#b\n",
    "try:\n",
    "    a=10/0\n",
    "except Exception as e:\n",
    "    print(e)\n",
    "finally:\n",
    "    print(\"this is finally block \")"
   ]
  },
  {
   "cell_type": "code",
   "execution_count": 35,
   "id": "c363361b",
   "metadata": {},
   "outputs": [],
   "source": [
    "#c\n",
    "class validateage(Exception):\n",
    "    \n",
    "    def __init__(self , msg) : \n",
    "        self.msg = msg"
   ]
  },
  {
   "cell_type": "code",
   "execution_count": 36,
   "id": "6e4ef0fa",
   "metadata": {},
   "outputs": [],
   "source": [
    "def validaetage(age) : \n",
    "    if age < 0 :\n",
    "        raise validateage(\"entered age is negative \" )\n",
    "    elif age > 200 : \n",
    "        raise validateage(\"enterd age is very very high \" )\n",
    "    else :\n",
    "        print(\"age is valid\" )"
   ]
  },
  {
   "cell_type": "code",
   "execution_count": 38,
   "id": "588d84a2",
   "metadata": {},
   "outputs": [
    {
     "name": "stdout",
     "output_type": "stream",
     "text": [
      "enter your age-10\n",
      "entered age is negative \n"
     ]
    }
   ],
   "source": [
    "try :\n",
    "    age = int(input(\"enter your age\" ))\n",
    "    validaetage(age)\n",
    "except validateage as e :\n",
    "    print(e)"
   ]
  },
  {
   "cell_type": "code",
   "execution_count": 40,
   "id": "2e8726f5",
   "metadata": {},
   "outputs": [],
   "source": [
    "#Q5. What are Custom Exceptions in python? Why do we need Custom Exceptions? Explain with an example"
   ]
  },
  {
   "cell_type": "code",
   "execution_count": 42,
   "id": "1bca514c",
   "metadata": {},
   "outputs": [
    {
     "name": "stdout",
     "output_type": "stream",
     "text": [
      "enter your age20\n",
      "age is valid\n"
     ]
    }
   ],
   "source": [
    "#custom exception are which user defined exceptions they are not built in \n",
    "class validateage(Exception):\n",
    "    \n",
    "    def __init__(self , msg) : \n",
    "        self.msg = msg\n",
    "def validaetage(age) : \n",
    "    if age < 0 :\n",
    "        raise validateage(\"entered age is negative \" )\n",
    "    elif age > 200 : \n",
    "        raise validateage(\"enterd age is very very high \" )\n",
    "    else :\n",
    "        print(\"age is valid\" )\n",
    "\n",
    "try :\n",
    "    age = int(input(\"enter your age\" ))\n",
    "    validaetage(age)\n",
    "except validateage as e :\n",
    "    print(e)"
   ]
  },
  {
   "cell_type": "code",
   "execution_count": 43,
   "id": "bf8d8825",
   "metadata": {},
   "outputs": [],
   "source": [
    "#Q6. Create custom exception class. Use this class to handle an exception."
   ]
  },
  {
   "cell_type": "code",
   "execution_count": 47,
   "id": "ac5ffbea",
   "metadata": {},
   "outputs": [
    {
     "name": "stdout",
     "output_type": "stream",
     "text": [
      "19\n",
      "you are eligible for voting\n"
     ]
    }
   ],
   "source": [
    "class voting(Exception):\n",
    "    def __init__(self,msg):\n",
    "        self.msg=msg\n",
    "def votingage(age):\n",
    "    if age<18:\n",
    "        raise voting(\"you are not eligble for voting\")\n",
    "    else:\n",
    "        raise voting(\"you are eligible for voting\")\n",
    "try:\n",
    "    age=int(input())\n",
    "    votingage(age)\n",
    "except voting as e:\n",
    "    print(e)\n",
    "    "
   ]
  },
  {
   "cell_type": "code",
   "execution_count": null,
   "id": "e50cfdad",
   "metadata": {},
   "outputs": [],
   "source": []
  }
 ],
 "metadata": {
  "kernelspec": {
   "display_name": "Python 3 (ipykernel)",
   "language": "python",
   "name": "python3"
  },
  "language_info": {
   "codemirror_mode": {
    "name": "ipython",
    "version": 3
   },
   "file_extension": ".py",
   "mimetype": "text/x-python",
   "name": "python",
   "nbconvert_exporter": "python",
   "pygments_lexer": "ipython3",
   "version": "3.9.12"
  }
 },
 "nbformat": 4,
 "nbformat_minor": 5
}
