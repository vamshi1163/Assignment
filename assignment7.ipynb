{
 "cells": [
  {
   "cell_type": "code",
   "execution_count": 1,
   "id": "4939e438",
   "metadata": {},
   "outputs": [],
   "source": [
    "#Q1. What is Abstraction in OOps? Explain with an example."
   ]
  },
  {
   "cell_type": "code",
   "execution_count": 2,
   "id": "118bdb3e",
   "metadata": {},
   "outputs": [],
   "source": [
    "import abc"
   ]
  },
  {
   "cell_type": "code",
   "execution_count": 6,
   "id": "72408d96",
   "metadata": {},
   "outputs": [
    {
     "name": "stdout",
     "output_type": "stream",
     "text": [
      "hi iam cat\n"
     ]
    }
   ],
   "source": [
    "class a:\n",
    "    \n",
    "    @abc.abstractmethod\n",
    "    def cat(self):\n",
    "        print(\"hi iam cat\")\n",
    "    @abc.abstractmethod\n",
    "    def dog(self):\n",
    "        print(\"hi iam dog\")\n",
    "c=a()\n",
    "c.cat()"
   ]
  },
  {
   "cell_type": "code",
   "execution_count": 9,
   "id": "3e269c01",
   "metadata": {},
   "outputs": [],
   "source": [
    "class b(a):\n",
    "\n",
    "    def cat(self):\n",
    "        pass\n",
    "    def dog(self):\n",
    "        pass\n",
    "v=b()\n",
    "v.cat()\n",
    "\n",
    "#abstract method: hiding the uncessary data such as on the above example they created a cat function so that it becomes a blueprint to the users "
   ]
  },
  {
   "cell_type": "code",
   "execution_count": 10,
   "id": "b6cb5925",
   "metadata": {},
   "outputs": [],
   "source": [
    "#Q2. Differentiate between Abstraction and Encapsulation. Explain with an example."
   ]
  },
  {
   "cell_type": "code",
   "execution_count": 17,
   "id": "adba2070",
   "metadata": {},
   "outputs": [
    {
     "data": {
      "text/plain": [
       "'vamshi'"
      ]
     },
     "execution_count": 17,
     "metadata": {},
     "output_type": "execute_result"
    }
   ],
   "source": [
    "class enc:\n",
    "    def __init__(self,name):\n",
    "        self.__name=name\n",
    "    def display(self):\n",
    "        print(self.__name)\n",
    "e=enc(\"vamshi\")\n",
    "e._enc__name\n",
    "# e.display()\n",
    "\n",
    "#both are similar but in encapuslation we can bind the data and show only what are required to the user .where as in abstraction we can access the methods of the abstract class"
   ]
  },
  {
   "cell_type": "code",
   "execution_count": 18,
   "id": "d9f0b397",
   "metadata": {},
   "outputs": [],
   "source": [
    "#Q3. What is abc module in python? Why is it used?"
   ]
  },
  {
   "cell_type": "code",
   "execution_count": 20,
   "id": "9c315104",
   "metadata": {},
   "outputs": [
    {
     "name": "stdout",
     "output_type": "stream",
     "text": [
      "This is a cat\n"
     ]
    }
   ],
   "source": [
    "# abc module is used to achieve abstract method it is used to hide the unwanted data\n",
    "import abc\n",
    "class b:\n",
    "    @abc.abstractmethod\n",
    "    def cat(self):\n",
    "        pass\n",
    "    @abc.abstractmethod\n",
    "    def dog(self):\n",
    "        pass\n",
    "class a(b):\n",
    "    def cat(self):\n",
    "        print(\"This is a cat\")\n",
    "    def dog(self):\n",
    "        print(\"This a dog\")\n",
    "c=a()\n",
    "c.cat()"
   ]
  },
  {
   "cell_type": "code",
   "execution_count": 21,
   "id": "9933ff00",
   "metadata": {},
   "outputs": [],
   "source": [
    "#Q4. How can we achieve data abstraction?"
   ]
  },
  {
   "cell_type": "code",
   "execution_count": 32,
   "id": "b3c2b0a0",
   "metadata": {},
   "outputs": [
    {
     "name": "stdout",
     "output_type": "stream",
     "text": [
      "it gives mielage of 20kmph\n"
     ]
    }
   ],
   "source": [
    "# we can achieve abstarction using abc method by using that we can only show wanted data . for example take a example of car ,it starts by putting key that is what we know but we dont know hoew engine works\n",
    "from abc import ABC ,abstractmethod\n",
    "\n",
    "class car(ABC):\n",
    "    @abstractmethod\n",
    "    def mielage(self):\n",
    "        print(\"hello\")\n",
    "class benz(car):\n",
    "    def mielage(self):\n",
    "        print(\"it gives mielage of 20kmph\")\n",
    "b=benz()\n",
    "b.mielage()"
   ]
  },
  {
   "cell_type": "code",
   "execution_count": 26,
   "id": "8c436a73",
   "metadata": {},
   "outputs": [],
   "source": [
    "#Q5. Can we create an instance of an abstract class? Explain your answer."
   ]
  },
  {
   "cell_type": "code",
   "execution_count": 33,
   "id": "dc008812",
   "metadata": {},
   "outputs": [
    {
     "ename": "TypeError",
     "evalue": "Can't instantiate abstract class car with abstract method mielage",
     "output_type": "error",
     "traceback": [
      "\u001b[1;31m---------------------------------------------------------------------------\u001b[0m",
      "\u001b[1;31mTypeError\u001b[0m                                 Traceback (most recent call last)",
      "Input \u001b[1;32mIn [33]\u001b[0m, in \u001b[0;36m<cell line: 11>\u001b[1;34m()\u001b[0m\n\u001b[0;32m      9\u001b[0m     \u001b[38;5;28;01mdef\u001b[39;00m \u001b[38;5;21mmielage\u001b[39m(\u001b[38;5;28mself\u001b[39m):\n\u001b[0;32m     10\u001b[0m         \u001b[38;5;28mprint\u001b[39m(\u001b[38;5;124m\"\u001b[39m\u001b[38;5;124mit gives mielage of 20kmph\u001b[39m\u001b[38;5;124m\"\u001b[39m)\n\u001b[1;32m---> 11\u001b[0m b\u001b[38;5;241m=\u001b[39m\u001b[43mcar\u001b[49m\u001b[43m(\u001b[49m\u001b[43m)\u001b[49m\n\u001b[0;32m     12\u001b[0m b\u001b[38;5;241m.\u001b[39mmielage()\n",
      "\u001b[1;31mTypeError\u001b[0m: Can't instantiate abstract class car with abstract method mielage"
     ]
    }
   ],
   "source": [
    "# we cannot create an instance or object of an abstract class in Python. If we try to instantiate the abstract class, it raises an error.\n",
    "from abc import ABC ,abstractmethod\n",
    "\n",
    "class car(ABC):\n",
    "    @abstractmethod\n",
    "    def mielage(self):\n",
    "        print(\"hello\")\n",
    "class benz(car):\n",
    "    def mielage(self):\n",
    "        print(\"it gives mielage of 20kmph\")\n",
    "b=car()\n",
    "b.mielage()"
   ]
  },
  {
   "cell_type": "code",
   "execution_count": null,
   "id": "66bd31e1",
   "metadata": {},
   "outputs": [],
   "source": []
  },
  {
   "cell_type": "code",
   "execution_count": null,
   "id": "5ef76088",
   "metadata": {},
   "outputs": [],
   "source": []
  }
 ],
 "metadata": {
  "kernelspec": {
   "display_name": "Python 3 (ipykernel)",
   "language": "python",
   "name": "python3"
  },
  "language_info": {
   "codemirror_mode": {
    "name": "ipython",
    "version": 3
   },
   "file_extension": ".py",
   "mimetype": "text/x-python",
   "name": "python",
   "nbconvert_exporter": "python",
   "pygments_lexer": "ipython3",
   "version": "3.9.12"
  }
 },
 "nbformat": 4,
 "nbformat_minor": 5
}
