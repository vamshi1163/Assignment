{
 "cells": [
  {
   "cell_type": "code",
   "execution_count": 1,
   "id": "d9f5dea2",
   "metadata": {},
   "outputs": [],
   "source": [
    "#Q1. Which keyword is used to create a function? Create a function to return a list of odd numbers in the range of 1 to 25."
   ]
  },
  {
   "cell_type": "code",
   "execution_count": 3,
   "id": "7c1ecd29",
   "metadata": {},
   "outputs": [
    {
     "data": {
      "text/plain": [
       "[1, 3, 5, 7, 9, 11, 13, 15, 17, 19, 21, 23, 25]"
      ]
     },
     "execution_count": 3,
     "metadata": {},
     "output_type": "execute_result"
    }
   ],
   "source": [
    "def print_odd(a):\n",
    "    c=[]\n",
    "    for i in range(1,a+1):\n",
    "        if i%2!=0:\n",
    "            c.append(i)\n",
    "        else:\n",
    "            pass\n",
    "    return c\n",
    "print_odd(25)"
   ]
  },
  {
   "cell_type": "code",
   "execution_count": 4,
   "id": "3f30e1e6",
   "metadata": {},
   "outputs": [],
   "source": [
    "#Q2. Why *args and **kwargs is used in some functions? Create a function each for *args and **kwargs to demonstrate their use."
   ]
  },
  {
   "cell_type": "code",
   "execution_count": 8,
   "id": "f917e94f",
   "metadata": {},
   "outputs": [
    {
     "data": {
      "text/plain": [
       "(6, 8, 9)"
      ]
     },
     "execution_count": 8,
     "metadata": {},
     "output_type": "execute_result"
    }
   ],
   "source": [
    "# args\n",
    "\n",
    "def test(*args):\n",
    "    return args\n",
    "test(6,8,9)"
   ]
  },
  {
   "cell_type": "code",
   "execution_count": 17,
   "id": "7ae71230",
   "metadata": {},
   "outputs": [
    {
     "data": {
      "text/plain": [
       "{'name': 'vamshi', 'rollno': 62}"
      ]
     },
     "execution_count": 17,
     "metadata": {},
     "output_type": "execute_result"
    }
   ],
   "source": [
    "#kwargs\n",
    "def test1(**kwargs):\n",
    "    return kwargs\n",
    "test1(name=\"vamshi\",rollno=62)"
   ]
  },
  {
   "cell_type": "code",
   "execution_count": 18,
   "id": "c0914260",
   "metadata": {},
   "outputs": [],
   "source": [
    "#Q3.What is an iterator in python? Name the method used to initialise the iterator object and the method used for iteration. Use these methods to print the first five elements of the given list [2, 4, 6, 8, 10, 12, 14,16, 18, 20]."
   ]
  },
  {
   "cell_type": "code",
   "execution_count": 25,
   "id": "92422d9a",
   "metadata": {},
   "outputs": [
    {
     "name": "stdout",
     "output_type": "stream",
     "text": [
      "2\n",
      "4\n",
      "6\n",
      "8\n",
      "10\n"
     ]
    }
   ],
   "source": [
    "a=[2, 4, 6, 8, 10, 12, 14, 16, 18, 20]\n",
    "\n",
    "b=iter(a)\n",
    "\n",
    "print(next(b))\n",
    "print(next(b))\n",
    "print(next(b))\n",
    "print(next(b))\n",
    "print(next(b))"
   ]
  },
  {
   "cell_type": "code",
   "execution_count": 26,
   "id": "4026d813",
   "metadata": {},
   "outputs": [],
   "source": [
    "#Q4.What is a generator function in python? Why yield keyword is used? Give an example of a generator function."
   ]
  },
  {
   "cell_type": "code",
   "execution_count": 32,
   "id": "021f80e9",
   "metadata": {},
   "outputs": [
    {
     "name": "stdout",
     "output_type": "stream",
     "text": [
      "0 1 1 2 3 5 8 13 21 34 55 89 144 "
     ]
    }
   ],
   "source": [
    "def genrator(n):\n",
    "    a,b=0,1\n",
    "    for i in range(n):\n",
    "        yield a\n",
    "        a,b=b,a+b\n",
    "genrator(13)\n",
    "for i in genrator(13):\n",
    "    print(i,end=\" \")\n",
    "        \n",
    "    "
   ]
  },
  {
   "cell_type": "code",
   "execution_count": 33,
   "id": "5f2e0e68",
   "metadata": {},
   "outputs": [],
   "source": [
    "#Q5. Create a generator function for prime numbers less than 1000. Use the next() method to print the first 20 prime numbers.\n"
   ]
  },
  {
   "cell_type": "code",
   "execution_count": 78,
   "id": "95f7a7a5",
   "metadata": {},
   "outputs": [
    {
     "name": "stdout",
     "output_type": "stream",
     "text": [
      "2 3 5 7 11 13 17 19 23 29 31 37 41 43 47 53 59 61 67 71 "
     ]
    }
   ],
   "source": [
    "def prime(n):\n",
    "    c=[]\n",
    "    for i in range(1,n+1):\n",
    "        \n",
    "        if i>1:\n",
    "            for j in range(2,i):\n",
    "                if i%j==0:\n",
    "                    break\n",
    "            else:\n",
    "                 c.append(i)\n",
    "    \n",
    "    for i in c:\n",
    "        print(i,end=\" \")\n",
    "prime(71)\n",
    "\n",
    "\n",
    "\n",
    "\n",
    "\n",
    " \n",
    "\n",
    "    \n",
    "\n",
    "                    \n",
    "                    "
   ]
  },
  {
   "cell_type": "code",
   "execution_count": 79,
   "id": "237c4891",
   "metadata": {},
   "outputs": [],
   "source": [
    "#Q6. Write a python program to print the first 10 Fibonacci numbers using a while loop."
   ]
  },
  {
   "cell_type": "code",
   "execution_count": 92,
   "id": "257968aa",
   "metadata": {},
   "outputs": [
    {
     "name": "stdout",
     "output_type": "stream",
     "text": [
      "11\n",
      "0 1 1 2 3 5 8 13 21 34 55 144 "
     ]
    }
   ],
   "source": [
    "num=int(input())\n",
    "a,b=0,1\n",
    "i=0\n",
    "\n",
    "while(i<num): \n",
    "    print(a,end=\" \")\n",
    "    \n",
    "    c=a+b\n",
    "    a=b\n",
    "    b=c\n",
    "    i=i+1\n",
    "print(c ,end=\" \")\n",
    "\n",
    "\n"
   ]
  },
  {
   "cell_type": "code",
   "execution_count": 93,
   "id": "f6a1c41d",
   "metadata": {},
   "outputs": [],
   "source": [
    "#Q7. Write a List Comprehension to iterate through the given string: ‘pwskills’. Expected output: ['p', 'w', 's', 'k', 'i', 'l', 'l', 's']"
   ]
  },
  {
   "cell_type": "code",
   "execution_count": 100,
   "id": "fdadaae9",
   "metadata": {},
   "outputs": [
    {
     "name": "stdout",
     "output_type": "stream",
     "text": [
      "['p', 'w', 's', 'k', 'i', 'l', 'l', 's']\n"
     ]
    }
   ],
   "source": [
    "a=\"pwskills\"\n",
    "b=[x for x in a]\n",
    "print(b)"
   ]
  },
  {
   "cell_type": "code",
   "execution_count": 101,
   "id": "65cb0f31",
   "metadata": {},
   "outputs": [],
   "source": [
    "#Q8.Write a python program to check whether a given number is Palindrome or not using a while loop."
   ]
  },
  {
   "cell_type": "code",
   "execution_count": 104,
   "id": "f4a14aca",
   "metadata": {},
   "outputs": [
    {
     "name": "stdout",
     "output_type": "stream",
     "text": [
      "madam\n",
      "palindrome\n"
     ]
    }
   ],
   "source": [
    "a=input()\n",
    "b=a[::-1]\n",
    "if a==b:\n",
    "    print(\"palindrome\")\n",
    "else:\n",
    "    print(\"not a palindrome\")"
   ]
  },
  {
   "cell_type": "code",
   "execution_count": 105,
   "id": "477e673b",
   "metadata": {},
   "outputs": [],
   "source": [
    "#Q9. Write a code to print odd numbers from 1 to 100 using list comprehension."
   ]
  },
  {
   "cell_type": "code",
   "execution_count": 106,
   "id": "8ed1aeeb",
   "metadata": {},
   "outputs": [
    {
     "name": "stdout",
     "output_type": "stream",
     "text": [
      "[1, 3, 5, 7, 9, 11, 13, 15, 17, 19, 21, 23, 25, 27, 29, 31, 33, 35, 37, 39, 41, 43, 45, 47, 49, 51, 53, 55, 57, 59, 61, 63, 65, 67, 69, 71, 73, 75, 77, 79, 81, 83, 85, 87, 89, 91, 93, 95, 97, 99]\n"
     ]
    }
   ],
   "source": [
    "a=[x for x in range(100) if x%2!=0]\n",
    "print(a)"
   ]
  },
  {
   "cell_type": "code",
   "execution_count": null,
   "id": "1c100018",
   "metadata": {},
   "outputs": [],
   "source": []
  }
 ],
 "metadata": {
  "kernelspec": {
   "display_name": "Python 3 (ipykernel)",
   "language": "python",
   "name": "python3"
  },
  "language_info": {
   "codemirror_mode": {
    "name": "ipython",
    "version": 3
   },
   "file_extension": ".py",
   "mimetype": "text/x-python",
   "name": "python",
   "nbconvert_exporter": "python",
   "pygments_lexer": "ipython3",
   "version": "3.9.12"
  }
 },
 "nbformat": 4,
 "nbformat_minor": 5
}
