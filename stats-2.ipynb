{
 "cells": [
  {
   "cell_type": "code",
   "execution_count": 2,
   "id": "a623a017",
   "metadata": {},
   "outputs": [],
   "source": [
    "# Q1: What are the Probability Mass Function (PMF) and Probability Density Function (PDF)? Explain with\n",
    "# an example.\n"
   ]
  },
  {
   "cell_type": "code",
   "execution_count": 4,
   "id": "6e70928e",
   "metadata": {},
   "outputs": [],
   "source": [
    "# # Probability Mass Function (PMF): It gives the probability that a discrete random \n",
    "# variable is equal to a certain value. It's used for discrete distributions. \n",
    "# For example, in rolling a fair six-sided die, the PMF would tell us the probability of getting each face (1, 2, 3, 4, 5, or 6), \n",
    "# which is1/6  for each face.\n",
    "\n",
    "# # Probability Density Function (PDF): It gives the probability that a continuous random variable falls within a particular range. It's used for continuous distributions. For example, in measuring the height of people, the PDF tells us the probability of finding someone with a height within a certain range, say between 5 and 6 feet."
   ]
  },
  {
   "cell_type": "code",
   "execution_count": 6,
   "id": "c714a600",
   "metadata": {},
   "outputs": [],
   "source": [
    "# Q2: What is Cumulative Density Function (CDF)? Explain with an example. Why CDF is used?\n"
   ]
  },
  {
   "cell_type": "code",
   "execution_count": 7,
   "id": "cb6dfe37",
   "metadata": {},
   "outputs": [],
   "source": [
    "# Cumulative Density Function (CDF): It gives the probability that a random variable takes on a value less than or equal to a certain point. It's used for both discrete and continuous distributions. For example, in a standard normal distribution, the CDF gives the probability that a value drawn at random will be less than or equal to a specific z-score.\n",
    "\n",
    "# Why CDF is used: CDF provides a way to determine probabilities associated with random variables by considering the cumulative probability up to a certain point. It's useful for understanding the overall distribution of a random variable and for calculating probabilities associated with specific ranges or values."
   ]
  },
  {
   "cell_type": "code",
   "execution_count": 9,
   "id": "baf2bbe9",
   "metadata": {},
   "outputs": [],
   "source": [
    "# Q3: What are some examples of situations where the normal distribution might be used as a model?\n",
    "# Explain how the parameters of the normal distribution relate to the shape of the distribution.\n"
   ]
  },
  {
   "cell_type": "code",
   "execution_count": 10,
   "id": "dfaeb6ef",
   "metadata": {},
   "outputs": [],
   "source": [
    "# The normal distribution might be used as a model in situations where data tends to cluster around a central value with symmetric tails on either side. Examples include:\n",
    "\n",
    "# Heights of people in a population.\n",
    "# Weights of objects produced by a manufacturing process.\n",
    "# Test scores in a standardized exam.\n",
    "# The parameters of the normal distribution are the mean (center of the distribution) and the standard deviation (measure of the spread). The mean determines the central position of the distribution, while the standard deviation affects the dispersion or width of the distribution. Higher standard deviation means the data is more spread out from the mean."
   ]
  },
  {
   "cell_type": "code",
   "execution_count": 12,
   "id": "04457f8d",
   "metadata": {},
   "outputs": [],
   "source": [
    "# Q4: Explain the importance of Normal Distribution. Give a few real-life examples of Normal\n",
    "# Distribution.\n"
   ]
  },
  {
   "cell_type": "code",
   "execution_count": 13,
   "id": "af8dd55c",
   "metadata": {},
   "outputs": [],
   "source": [
    "# Importance of Normal Distribution: It's essential in statistics and probability theory because:\n",
    "\n",
    "# Many natural processes and phenomena approximate a normal distribution.\n",
    "# It simplifies complex phenomena into a standardized form for analysis.\n",
    "# It's the foundation for many statistical methods and hypothesis testing.\n",
    "# Real-life examples:\n",
    "\n",
    "# Heights of people in a population.\n",
    "# IQ scores in a standardized test.\n",
    "# Errors in measurements or experiments."
   ]
  },
  {
   "cell_type": "code",
   "execution_count": 14,
   "id": "e4aa65f6",
   "metadata": {},
   "outputs": [],
   "source": [
    "# Q5: What is Bernaulli Distribution? Give an Example. What is the difference between Bernoulli\n",
    "# Distribution and Binomial Distribution?\n"
   ]
  },
  {
   "cell_type": "code",
   "execution_count": 15,
   "id": "7e5117cb",
   "metadata": {},
   "outputs": [],
   "source": [
    "# Bernoulli Distribution: It models a single trial with two possible outcomes: success or failure.\n",
    "\n",
    "# Example: Flipping a coin, where success might be getting heads.\n",
    "# Difference between Bernoulli and Binomial Distribution:\n",
    "\n",
    "# Bernoulli: Models a single trial.\n",
    "# Binomial: Models the number of successes in a fixed number of independent Bernoulli trials."
   ]
  },
  {
   "cell_type": "code",
   "execution_count": 16,
   "id": "3fe8f54b",
   "metadata": {},
   "outputs": [],
   "source": [
    "# Q6. Consider a dataset with a mean of 50 and a standard deviation of 10. If we assume that the dataset\n",
    "# is normally distributed, what is the probability that a randomly selected observation will be greater\n",
    "# than 60? Use the appropriate formula and show your calculations.\n"
   ]
  },
  {
   "cell_type": "code",
   "execution_count": 17,
   "id": "9eb54049",
   "metadata": {},
   "outputs": [],
   "source": [
    "\n",
    "\n",
    "\n",
    "# If we have a dataset that is normally distributed with a mean of 50 and a standard deviation of 10, and we want to find the probability that a randomly selected observation will be greater than 60:\n",
    "\n",
    "# We know that in a normal distribution, roughly 68% of the data falls within one standard deviation of the mean. Since 60 is one standard deviation above the mean (50 + 10), we can expect that a little more than 68% of the data will be below 60.\n",
    "\n",
    "# Therefore, the probability of selecting an observation greater than 60 would be less than 32%.\n",
    "\n",
    "# So, if we assume our dataset follows this normal distribution, the probability of selecting an observation greater than 60 would be less than 32%."
   ]
  },
  {
   "cell_type": "code",
   "execution_count": 18,
   "id": "fdc04b1f",
   "metadata": {},
   "outputs": [],
   "source": [
    "# Q7: Explain uniform Distribution with an example.\n"
   ]
  },
  {
   "cell_type": "code",
   "execution_count": 19,
   "id": "70893875",
   "metadata": {},
   "outputs": [],
   "source": [
    "# Uniform Distribution: It's a continuous distribution where all outcomes have equal probability.\n",
    "# Example: Rolling a fair six-sided die, where each outcome (1, 2, 3, 4, 5, or 6) has a probability of \n",
    "# 1/6\n",
    "\n",
    "#  ."
   ]
  },
  {
   "cell_type": "code",
   "execution_count": 20,
   "id": "65fe37a9",
   "metadata": {},
   "outputs": [],
   "source": [
    "# Q8: What is the z score? State the importance of the z score.\n"
   ]
  },
  {
   "cell_type": "code",
   "execution_count": 21,
   "id": "6a451c88",
   "metadata": {},
   "outputs": [],
   "source": [
    "# Z-score: It measures how many standard deviations a data point is from the mean of a distribution.\n",
    "# Importance: It standardizes data, allowing comparison between different distributions. It also helps in identifying outliers and determining probabilities associated with specific values."
   ]
  },
  {
   "cell_type": "code",
   "execution_count": 22,
   "id": "111abbaf",
   "metadata": {},
   "outputs": [],
   "source": [
    "# Q9: What is Central Limit Theorem? State the significance of the Central Limit Theorem.\n"
   ]
  },
  {
   "cell_type": "code",
   "execution_count": 23,
   "id": "4977d1df",
   "metadata": {},
   "outputs": [],
   "source": [
    "# Central Limit Theorem (CLT): It states that the sampling distribution of the sample mean approaches a normal distribution as the sample size increases, regardless of the shape of the population distribution.\n",
    "# Significance: It's fundamental in inferential statistics, allowing us to make inferences about population parameters based on sample statistics."
   ]
  },
  {
   "cell_type": "code",
   "execution_count": 24,
   "id": "121907b4",
   "metadata": {},
   "outputs": [],
   "source": [
    "# Q10: State the assumptions of the Central Limit Theorem."
   ]
  },
  {
   "cell_type": "code",
   "execution_count": 25,
   "id": "70a4360d",
   "metadata": {},
   "outputs": [],
   "source": [
    "# Assumptions of Central Limit Theorem:\n",
    "# Independence: Observations must be independent of each other.\n",
    "# Sample Size: The sample size should be sufficiently large. There is no precise rule, but a commonly used guideline is that the sample size should be at least 30.\n",
    "# Sample Randomness: The sample must be selected randomly from the population.\n",
    "\n",
    "\n",
    "\n"
   ]
  },
  {
   "cell_type": "code",
   "execution_count": null,
   "id": "813fcbf6",
   "metadata": {},
   "outputs": [],
   "source": []
  }
 ],
 "metadata": {
  "kernelspec": {
   "display_name": "Python 3 (ipykernel)",
   "language": "python",
   "name": "python3"
  },
  "language_info": {
   "codemirror_mode": {
    "name": "ipython",
    "version": 3
   },
   "file_extension": ".py",
   "mimetype": "text/x-python",
   "name": "python",
   "nbconvert_exporter": "python",
   "pygments_lexer": "ipython3",
   "version": "3.11.5"
  }
 },
 "nbformat": 4,
 "nbformat_minor": 5
}
