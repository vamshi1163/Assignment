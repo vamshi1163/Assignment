{
 "cells": [
  {
   "cell_type": "code",
   "execution_count": 1,
   "id": "e01fe4aa",
   "metadata": {},
   "outputs": [],
   "source": [
    "#Q1.What is multithreading in python? why is it used? Name the module used to handle threads in python"
   ]
  },
  {
   "cell_type": "code",
   "execution_count": 2,
   "id": "14e386ce",
   "metadata": {},
   "outputs": [],
   "source": [
    "# multithreading is nothing but creating many threads in a single process, threading module is used to handle threads"
   ]
  },
  {
   "cell_type": "code",
   "execution_count": 3,
   "id": "9f5531e0",
   "metadata": {},
   "outputs": [],
   "source": [
    "#Q2. Why threading module used? write the use of the following functions\n",
    "#  activeCount\n",
    "#  currentThread\n",
    "#  enumerate"
   ]
  },
  {
   "cell_type": "code",
   "execution_count": 4,
   "id": "18c7b345",
   "metadata": {},
   "outputs": [
    {
     "name": "stdout",
     "output_type": "stream",
     "text": [
      "6\n"
     ]
    }
   ],
   "source": [
    "# activeCount\n",
    "import threading\n",
    "\n",
    "print(threading.activeCount())\n"
   ]
  },
  {
   "cell_type": "code",
   "execution_count": 12,
   "id": "726f6eac",
   "metadata": {},
   "outputs": [
    {
     "name": "stdout",
     "output_type": "stream",
     "text": [
      "Current Thread: MainThread\n"
     ]
    }
   ],
   "source": [
    "# currentThread\n",
    "current_thread = threading.currentThread()\n",
    "print(\"Current Thread:\", current_thread.getName())\n"
   ]
  },
  {
   "cell_type": "code",
   "execution_count": 10,
   "id": "c67b3be6",
   "metadata": {},
   "outputs": [
    {
     "name": "stdout",
     "output_type": "stream",
     "text": [
      "Thread Name: MainThread\n",
      "Thread Name: IOPub\n",
      "Thread Name: Heartbeat\n",
      "Thread Name: Control\n",
      "Thread Name: IPythonHistorySavingThread\n",
      "Thread Name: Thread-4\n"
     ]
    }
   ],
   "source": [
    "# enumerate\n",
    "thread_list = threading.enumerate()\n",
    "\n",
    "for i in thread_list:\n",
    "    print(\"Thread Name:\", i.getName())\n"
   ]
  },
  {
   "cell_type": "code",
   "execution_count": 13,
   "id": "04d39f9c",
   "metadata": {},
   "outputs": [],
   "source": [
    "#Q3. Explain the following functions\n",
    "#  run\n",
    "#  start\n",
    "#  join\n",
    "#  isAlive"
   ]
  },
  {
   "cell_type": "code",
   "execution_count": 16,
   "id": "3a8316eb",
   "metadata": {},
   "outputs": [
    {
     "name": "stdout",
     "output_type": "stream",
     "text": [
      "Thread is running\n"
     ]
    }
   ],
   "source": [
    "#run\n",
    "import threading\n",
    "\n",
    "class MyThread(threading.Thread):\n",
    "    def run(self):\n",
    "        print(\"Thread is running\")\n",
    "\n",
    "\n",
    "my_thread = MyThread()\n",
    "my_thread.run()  \n"
   ]
  },
  {
   "cell_type": "code",
   "execution_count": 17,
   "id": "334ea56e",
   "metadata": {},
   "outputs": [
    {
     "name": "stdout",
     "output_type": "stream",
     "text": [
      "Thread is starting\n"
     ]
    }
   ],
   "source": [
    "#start\n",
    "class MyThread(threading.Thread):\n",
    "    def start(self):\n",
    "        print(\"Thread is starting\")\n",
    "\n",
    "\n",
    "my_thread = MyThread()\n",
    "my_thread.start()  "
   ]
  },
  {
   "cell_type": "code",
   "execution_count": 18,
   "id": "6b65197f",
   "metadata": {},
   "outputs": [
    {
     "name": "stdout",
     "output_type": "stream",
     "text": [
      "Thread has completed.\n"
     ]
    }
   ],
   "source": [
    "#join\n",
    "\n",
    "\n",
    "def my_function():\n",
    "    pass\n",
    "\n",
    "my_thread = threading.Thread(target=my_function)\n",
    "my_thread.start()\n",
    "my_thread.join()  \n",
    "print(\"Thread has completed.\")\n"
   ]
  },
  {
   "cell_type": "code",
   "execution_count": 30,
   "id": "98f3a4a2",
   "metadata": {},
   "outputs": [
    {
     "name": "stdout",
     "output_type": "stream",
     "text": [
      "Thread is still running.\n"
     ]
    }
   ],
   "source": [
    "import threading\n",
    "from threading import Thread\n",
    "import time\n",
    "\n",
    "def my_function():\n",
    "    time.sleep(2)\n",
    "\n",
    "my_thread = threading.Thread(target=my_function)\n",
    "my_thread.start()\n",
    "\n",
    "if my_thread.is_alive():\n",
    "    print(\"Thread is still running.\")\n",
    "else:\n",
    "    print(\"Thread has completed.\")\n"
   ]
  },
  {
   "cell_type": "code",
   "execution_count": 31,
   "id": "e3210d6f",
   "metadata": {},
   "outputs": [],
   "source": [
    "# Q4. Write a python program to create two threads. Thread one must print the list of squares and thread\n",
    "# two must print the list of cubes"
   ]
  },
  {
   "cell_type": "code",
   "execution_count": 42,
   "id": "6b6f54ae",
   "metadata": {},
   "outputs": [
    {
     "name": "stdout",
     "output_type": "stream",
     "text": [
      "1\n",
      "4\n",
      "9\n",
      "16\n",
      "25\n",
      "1\n",
      "8\n",
      "27\n",
      "64\n",
      "125\n"
     ]
    }
   ],
   "source": [
    "def square(n):\n",
    "    print(n**2)\n",
    "def cubes(n):\n",
    "    print(n**3)\n",
    "thread1=[threading.Thread(target=square ,args=(i,))for i in [1,2,3,4,5]]\n",
    "thread2=[threading.Thread(target=cubes ,args=(k,))for k in [1,2,3,4,5]]\n",
    "for j in thread1:\n",
    "    j.start()\n",
    "    j.join()\n",
    "for h in thread2:\n",
    "    h.start()\n",
    "    h.join()\n",
    "\n"
   ]
  },
  {
   "cell_type": "code",
   "execution_count": null,
   "id": "abee56af",
   "metadata": {},
   "outputs": [],
   "source": [
    "#Q5. State advantages and disadvantages of multithreading"
   ]
  },
  {
   "cell_type": "code",
   "execution_count": 43,
   "id": "386f8f2e",
   "metadata": {},
   "outputs": [],
   "source": [
    "#Advantages\n",
    "  # 1.Improved Performance\n",
    "  # 2.Responsiveness\n",
    "  # 3.Resource Sharing\n",
    "#Disadvantages\n",
    "  # 1.Complexity and Bugs\n",
    "  # 2.Resource Consumption\n",
    "  # 3.Synchronization Overhead"
   ]
  },
  {
   "cell_type": "code",
   "execution_count": 44,
   "id": "5a3c895d",
   "metadata": {},
   "outputs": [],
   "source": [
    "#Q6. Explain deadlocks and race conditions.\n",
    "#  deadlocks\n",
    "#     A deadlock is a situation in which two or more threads or processes are unable to proceed because they are each waiting for the other to release a resource or take a specific action\n",
    "#  race conditions\n",
    "#     A race condition occurs when two or more threads or processes access shared data concurrently, and the final outcome depends on the relative timing of their execution. "
   ]
  },
  {
   "cell_type": "code",
   "execution_count": null,
   "id": "18a8c400",
   "metadata": {},
   "outputs": [],
   "source": []
  }
 ],
 "metadata": {
  "kernelspec": {
   "display_name": "Python 3 (ipykernel)",
   "language": "python",
   "name": "python3"
  },
  "language_info": {
   "codemirror_mode": {
    "name": "ipython",
    "version": 3
   },
   "file_extension": ".py",
   "mimetype": "text/x-python",
   "name": "python",
   "nbconvert_exporter": "python",
   "pygments_lexer": "ipython3",
   "version": "3.9.12"
  }
 },
 "nbformat": 4,
 "nbformat_minor": 5
}
